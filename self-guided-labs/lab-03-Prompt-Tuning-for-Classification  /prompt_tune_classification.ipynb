{
 "cells": [
  {
   "cell_type": "markdown",
   "metadata": {},
   "source": [
    "### 0.Imports"
   ]
  },
  {
   "cell_type": "code",
   "execution_count": null,
   "metadata": {},
   "outputs": [],
   "source": [
    "!pip install load-dotenv\n",
    "!pip install scikit-learn\n",
    "!pip install pandas\n",
    "!pip install requests\n",
    "!pip install tqdm\n",
    "!pip3 install ipywidgets #restart kernel after installation\n",
    "!pip install matplotlib\n",
    "!pip install seaborn"
   ]
  },
  {
   "cell_type": "code",
   "execution_count": 1,
   "metadata": {},
   "outputs": [],
   "source": [
    "from pandas import read_csv, DataFrame, crosstab\n",
    "import os\n",
    "from dotenv import load_dotenv\n",
    "from sklearn.model_selection import train_test_split\n",
    "from sklearn.metrics import accuracy_score, classification_report\n",
    "import requests\n",
    "from tqdm.notebook import tqdm_notebook\n",
    "from tqdm import tqdm\n",
    "\n",
    "import matplotlib.pyplot as plt\n",
    "import seaborn as sn"
   ]
  },
  {
   "cell_type": "markdown",
   "metadata": {},
   "source": [
    "### 1. Prepare Data & Prompts"
   ]
  },
  {
   "cell_type": "markdown",
   "metadata": {},
   "source": [
    "#### 1.1 Read Data, filter columns and rename them"
   ]
  },
  {
   "cell_type": "code",
   "execution_count": 2,
   "metadata": {},
   "outputs": [
    {
     "data": {
      "text/html": [
       "<div>\n",
       "<style scoped>\n",
       "    .dataframe tbody tr th:only-of-type {\n",
       "        vertical-align: middle;\n",
       "    }\n",
       "\n",
       "    .dataframe tbody tr th {\n",
       "        vertical-align: top;\n",
       "    }\n",
       "\n",
       "    .dataframe thead th {\n",
       "        text-align: right;\n",
       "    }\n",
       "</style>\n",
       "<table border=\"1\" class=\"dataframe\">\n",
       "  <thead>\n",
       "    <tr style=\"text-align: right;\">\n",
       "      <th></th>\n",
       "      <th>input</th>\n",
       "      <th>output</th>\n",
       "    </tr>\n",
       "  </thead>\n",
       "  <tbody>\n",
       "    <tr>\n",
       "      <th>0</th>\n",
       "      <td>currently hold one credit best buy visa paying...</td>\n",
       "      <td>credit_card</td>\n",
       "    </tr>\n",
       "    <tr>\n",
       "      <th>1</th>\n",
       "      <td>asked verification debt appeared credit report...</td>\n",
       "      <td>debt_collection</td>\n",
       "    </tr>\n",
       "    <tr>\n",
       "      <th>2</th>\n",
       "      <td>loan chase auto car accident car totaled insur...</td>\n",
       "      <td>mortgages_and_loans</td>\n",
       "    </tr>\n",
       "    <tr>\n",
       "      <th>3</th>\n",
       "      <td>pas due amount came denied income driven plan ...</td>\n",
       "      <td>mortgages_and_loans</td>\n",
       "    </tr>\n",
       "    <tr>\n",
       "      <th>4</th>\n",
       "      <td>attn collection dept submitting complaint refe...</td>\n",
       "      <td>credit_reporting</td>\n",
       "    </tr>\n",
       "  </tbody>\n",
       "</table>\n",
       "</div>"
      ],
      "text/plain": [
       "                                               input               output\n",
       "0  currently hold one credit best buy visa paying...          credit_card\n",
       "1  asked verification debt appeared credit report...      debt_collection\n",
       "2  loan chase auto car accident car totaled insur...  mortgages_and_loans\n",
       "3  pas due amount came denied income driven plan ...  mortgages_and_loans\n",
       "4  attn collection dept submitting complaint refe...     credit_reporting"
      ]
     },
     "execution_count": 2,
     "metadata": {},
     "output_type": "execute_result"
    }
   ],
   "source": [
    "data= read_csv('cfpb_compliants.csv')\n",
    "data=data[['narrative','product']]\n",
    "data = data.rename(columns={'narrative': 'input', 'product' : 'output'})\n",
    "data.head()\n"
   ]
  },
  {
   "cell_type": "code",
   "execution_count": 3,
   "metadata": {},
   "outputs": [
    {
     "data": {
      "text/plain": [
       "output\n",
       "debt_collection        6642\n",
       "credit_reporting       6000\n",
       "mortgages_and_loans    5822\n",
       "credit_card            5031\n",
       "retail_banking         3863\n",
       "Name: count, dtype: int64"
      ]
     },
     "execution_count": 3,
     "metadata": {},
     "output_type": "execute_result"
    }
   ],
   "source": [
    "data.output.value_counts()"
   ]
  },
  {
   "cell_type": "markdown",
   "metadata": {},
   "source": [
    "##### Experiment: Filter to only work with 256 characters complaints"
   ]
  },
  {
   "cell_type": "code",
   "execution_count": 4,
   "metadata": {},
   "outputs": [
    {
     "data": {
      "text/plain": [
       "8071"
      ]
     },
     "execution_count": 4,
     "metadata": {},
     "output_type": "execute_result"
    }
   ],
   "source": [
    "data_256_filter = data['input'].str.len() < 256\n",
    "data_256 = data[data_256_filter]\n",
    "len(data_256)"
   ]
  },
  {
   "cell_type": "code",
   "execution_count": 5,
   "metadata": {},
   "outputs": [
    {
     "data": {
      "text/plain": [
       "output\n",
       "debt_collection        2465\n",
       "credit_reporting       2362\n",
       "retail_banking         1187\n",
       "credit_card            1066\n",
       "mortgages_and_loans     991\n",
       "Name: count, dtype: int64"
      ]
     },
     "execution_count": 5,
     "metadata": {},
     "output_type": "execute_result"
    }
   ],
   "source": [
    "data_256.output.value_counts()"
   ]
  },
  {
   "cell_type": "markdown",
   "metadata": {},
   "source": [
    "#### 1.2 Create datasets for training and test"
   ]
  },
  {
   "cell_type": "code",
   "execution_count": 6,
   "metadata": {},
   "outputs": [],
   "source": [
    "data_train, data_test, y_train, y_test = train_test_split(data_256['input'], \n",
    "                                                    data_256['output'],\n",
    "                                                    test_size=0.3,\n",
    "                                                    random_state=33, \n",
    "                                                    stratify=data_256['output'])\n",
    "data_train = DataFrame(data_train)\n",
    "data_test = DataFrame(data_test)"
   ]
  },
  {
   "cell_type": "markdown",
   "metadata": {},
   "source": [
    "#### 1.3 Create training data file ( to be used thru the Tuning Studio UI )"
   ]
  },
  {
   "cell_type": "code",
   "execution_count": 7,
   "metadata": {},
   "outputs": [],
   "source": [
    "\n",
    "data_train_and_labels = data_train.copy()\n",
    "data_train_and_labels['output'] = y_train\n",
    "\n",
    "data_train_and_labels[:2000].to_json('data/2000-compliants_classification_training_examples.json', orient =\"records\")\n"
   ]
  },
  {
   "cell_type": "code",
   "execution_count": 8,
   "metadata": {},
   "outputs": [
    {
     "data": {
      "text/plain": [
       "output\n",
       "credit_reporting       621\n",
       "debt_collection        588\n",
       "retail_banking         291\n",
       "credit_card            260\n",
       "mortgages_and_loans    240\n",
       "Name: count, dtype: int64"
      ]
     },
     "execution_count": 8,
     "metadata": {},
     "output_type": "execute_result"
    }
   ],
   "source": [
    "data_train_and_labels[:2000].output.value_counts()"
   ]
  },
  {
   "cell_type": "markdown",
   "metadata": {},
   "source": [
    "#### 1.4. Create Data Test"
   ]
  },
  {
   "cell_type": "markdown",
   "metadata": {},
   "source": [
    "##### Experiment: Same number of examples per class"
   ]
  },
  {
   "cell_type": "code",
   "execution_count": 8,
   "metadata": {},
   "outputs": [
    {
     "data": {
      "text/plain": [
       "output\n",
       "credit_card            600\n",
       "credit_reporting       600\n",
       "debt_collection        600\n",
       "mortgages_and_loans    600\n",
       "retail_banking         600\n",
       "Name: count, dtype: int64"
      ]
     },
     "execution_count": 8,
     "metadata": {},
     "output_type": "execute_result"
    }
   ],
   "source": [
    "data_train_sample = data_train_and_labels.groupby(\"output\").sample(n=600, random_state=1)\n",
    "data_train_sample['output'].value_counts()"
   ]
  },
  {
   "cell_type": "code",
   "execution_count": 9,
   "metadata": {},
   "outputs": [],
   "source": [
    "data_train_sample.to_json('data/600c_compliants_classification_training_examples.json', orient =\"records\")"
   ]
  },
  {
   "cell_type": "markdown",
   "metadata": {},
   "source": [
    "##### Select random 1000 examples\n"
   ]
  },
  {
   "cell_type": "code",
   "execution_count": 10,
   "metadata": {},
   "outputs": [],
   "source": [
    "data_test_and_labels = data_test.copy()\n",
    "data_test_and_labels['output'] = y_test"
   ]
  },
  {
   "cell_type": "code",
   "execution_count": 11,
   "metadata": {},
   "outputs": [],
   "source": [
    "data_test_and_labels[:1000].to_json('data/testing_examples.json', orient =\"records\")"
   ]
  },
  {
   "cell_type": "code",
   "execution_count": 12,
   "metadata": {},
   "outputs": [
    {
     "data": {
      "text/plain": [
       "output\n",
       "debt_collection        740\n",
       "credit_reporting       709\n",
       "retail_banking         356\n",
       "credit_card            320\n",
       "mortgages_and_loans    297\n",
       "Name: count, dtype: int64"
      ]
     },
     "execution_count": 12,
     "metadata": {},
     "output_type": "execute_result"
    }
   ],
   "source": [
    "data_test_and_labels.output.value_counts()"
   ]
  },
  {
   "cell_type": "markdown",
   "metadata": {},
   "source": [
    "#### Go to Tuning Studio"
   ]
  },
  {
   "cell_type": "code",
   "execution_count": 13,
   "metadata": {},
   "outputs": [
    {
     "data": {
      "text/plain": [
       "' Classification output (verbalizer) :\\nclassify { \"credit_card\", \"debt_collection\",\"mortgages_and_loans\", \"retail_banking\",\"credit_reporting\" } Input: {{input}} Output:\\n'"
      ]
     },
     "execution_count": 13,
     "metadata": {},
     "output_type": "execute_result"
    }
   ],
   "source": [
    "\"\"\" Classification output (verbalizer) :\n",
    "classify { \"credit_card\", \"debt_collection\",\"mortgages_and_loans\", \"retail_banking\",\"credit_reporting\" } Input: {{input}} Output:\n",
    "\"\"\"\n",
    "\n",
    "#TODO : fine tuning by code"
   ]
  },
  {
   "cell_type": "markdown",
   "metadata": {},
   "source": [
    "#### Prepare for Prompting"
   ]
  },
  {
   "cell_type": "code",
   "execution_count": 14,
   "metadata": {},
   "outputs": [],
   "source": [
    "instruction=\"\"\"Determine the class of product expressed in the sentence.\n",
    "Use either 'credit_card', 'debt_collection','mortgages_and_loans','retail_banking', or 'credit_reporting'.\n",
    "\n",
    "sentence: {sentence}\n",
    "\n",
    "class: \n",
    "\"\"\""
   ]
  },
  {
   "cell_type": "code",
   "execution_count": 15,
   "metadata": {},
   "outputs": [],
   "source": [
    "parameters = {\n",
    "         \"decoding_method\": \"greedy\",\n",
    "         \"random_seed\": 33,\n",
    "         \"repetition_penalty\":1,\n",
    "         \"min_new_tokens\": 1,\n",
    "         \"max_new_tokens\": 10\n",
    "}"
   ]
  },
  {
   "cell_type": "code",
   "execution_count": 16,
   "metadata": {},
   "outputs": [],
   "source": [
    "inputs_test = [{\"input\": text} for text in data_test_and_labels['input']]\n",
    "y_test = data_test_and_labels['output']"
   ]
  },
  {
   "cell_type": "markdown",
   "metadata": {},
   "source": [
    "### 2. Test Performance FLAN-T5 ( withouth prompt tuning)"
   ]
  },
  {
   "cell_type": "markdown",
   "metadata": {},
   "source": [
    "#### 2.1 ZERO SHOT PROMTING APPROACH"
   ]
  },
  {
   "cell_type": "code",
   "execution_count": 17,
   "metadata": {},
   "outputs": [
    {
     "name": "stdout",
     "output_type": "stream",
     "text": [
      "{'input': 'hello im contacting cfpb help car showed credit report closed want removed credit score rand dont want closed account show account help'}\n",
      "{'input': 'tired bank declining credit card application reason refuse approve dont appreciate'}\n",
      "{'input': 'date amount converted purchase serviced supposedly getting wanted get money back seller doesnt want give back said doesnt dont know money want back'}\n",
      "{'input': 'afni inc reported new credit account original debtor amount account believe someone else name first reported six year ago illegally showing credit report brand new delinquency result credit score dropped point disputed action often take many month respond'}\n",
      "{'input': 'good evening already dispute bureau requested proof ownership far could meet requirement reason filling complaint'}\n",
      "{'input': 'using app named pay rent letting link pnc bank account pay directly app'}\n",
      "{'input': 'account federal student loan dept closed balance refinanced department education dept credit report need accurately reflect updated status'}\n",
      "{'input': 'cancelled card charged'}\n",
      "{'input': 'three credit bureau equifax misreported information credit report removed immediately submitted dispute document driver license social security card three bureau information deleted removed see attached file also notarized'}\n",
      "{'input': 'trying loan since loan house provider help refinance modification loan term expires balance around due pendemic job flat denied modification please help'}\n",
      "{'input': 'commonwealth financial attempting collect debt mine company reported account opened reporting credit'}\n",
      "{'input': 'debt collection company reporting inaccurate information alleged debt mine responded within day violation provided contract bearing signature connecting debt'}{'input': 'company called credit management sent bad debt notice credit agency debt owe contacted week ago heard back word mark credit report affected credit negatively substantial way need make responsive order get bad mark removed asap'}\n",
      "\n",
      "{'input': 'capital one credit card opened name authorize'}\n",
      "{'input': 'tree credit reporting company given day resolve complaint never received anything'}\n",
      "{'input': 'victim identity theft recently pulled credit noticed inaccuracy reached credit company bureau company removed fraudulent account report issue except one bureau kept account td target none account authorized opened anyone associated behalf'}\n",
      "{'input': 'called amex serve find issue card told fix issue representative hung declined every transaction attempted since deposit went account refused access u based call center speak someone understand understand'}\n",
      "{'input': 'asked verifiable proof debt mine given debt cause identity theft disputed early part please help resolve matter'}\n",
      "{'input': 'co credut card opened fraudulently using personal information authorized country see attached ftc affidavit identity theft'}\n",
      "{'input': 'requested sps financial debit account escrow tax insurance payment behind escrow payment making good debt want sps financial accept payment somehow sell home future tax sale setup complete payment partial payment'}\n",
      "{'input': 'loan comenity always made payment time reason realized late payment credit report see always stellar payment record company tried contacting comenity successful resolution reporting late definitely error part never day late'}\n",
      "{'input': 'coinbase frozen available cash withdraw available cash deposit bank account holding money day received email showing fund available locked'}\n",
      "{'input': 'failed give proper validation debt mailed debt validation request certified mail'}\n",
      "{'input': 'debt showing credit report progressive dating time show debt owed false information requested item removed nothing done'}\n",
      "{'input': 'account show past due however never past due requested forbearance granted however sent something sign mail didnt receive sign something sent said would taken care however show past due case'}\n",
      "{'input': 'bought new day make first payment bought car mid received bill payment due end well within day nothing statement indicating payment required'}\n",
      "{'input': 'bank america stated edd closed edd account however edd still paying edd account bank america speak release money'}\n",
      "{'input': 'three credit bureau stating account showing status consumer dispute consumer disputing disagreeing finding'}\n",
      "{'input': 'credit acceptance failed give proper validation debt stated account information account furnishing consumer report'}\n",
      "{'input': 'receiving current copy credit report discovered entry identified inquiry qualified deletion report'}\n",
      "{'input': 'erased complaint saved download please see attachment file complaint thank capital one information copy complaint filed company stating refund sent also recording phone call say'}\n",
      "{'input': 'found last week supposedly past due amount thought called fixed issue today mother called tell currently harassing please stop'}\n",
      "{'input': 'cash app refusing give access account keep telling unlink account would like withdraw funding cant feel like withdraw bank file send check'}\n",
      "{'input': 'bbva report credit report late account complaint company fix reporting today noticed company havent reporting information correctly posted payment correct made double payment account called deferred payment due injury loss family member'}\n",
      "{'input': 'link pnc account'}\n",
      "{'input': 'filed ftc account stated u dept ed deptedxxxx'}\n",
      "{'input': 'receive anything properly contacted able dispute charge showed collection sure mine amount high know account ca recall must old'}\n",
      "{'input': 'cash app froze account getting direct deposit sent account cash app verified froze account wont let send withdraw spend reached back sll'}\n",
      "{'input': 'time respectfully request copy experian credit report dont know written request ignored would greatly appreciated credit reporting agency mail copy credit report fl'}\n",
      "{'input': 'believe harassed mortgage home preservation specialist pursuant second initiating document requesting information mortgage company placed mortgage account extended payment suspension forbearance mid response required'}\n",
      "{'input': 'aldous reporting debt credit file owe recently checked credit file noticed debt called paid immediately never received phone call notice letter debt violates day right dispute need account asap'}{'input': 'link pnc bank account'}\n",
      "\n",
      "{'input': 'bank america returned overpayment contacted twice last week promised return money back original payment account received money shut bank america alaska card account without consent still confirmation money back know else'}\n",
      "{'input': 'company continues try send bill medical debt medicaid provided medicaid id number attaching medical card show insured since collection updated providing evidence insurance'}\n",
      "{'input': 'bank america case billed card unauthorized charge'}\n",
      "{'input': 'account opened without authorization'}\n",
      "{'input': 'hello name phone received important legal notice claim mass commonwealth superior court settlement part navient solution llc claim form little bite worried claim maybe fraud please advice'}\n",
      "{'input': 'ace cash express called wife grandmother saying legal complaint charge defraud lending institution called told pay dollar dollar loan proceed charge'}\n",
      "{'input': 'reason frozen coinbase account thousand dollar trying resolve support team offered criminally vague statement said longer eligible link payment method able provide additional mean wo give money back wo tell theft'}\n",
      "{'input': 'called number york county resolve debt listed reference going pay release judgement attempting obtain housing would accept payment could remember exact address time debt incurred way get taken care quickly please help'}\n",
      "{'input': 'harvard collection service placed debt appears medical debt never received notice documentation support owe debt asking see original contract release form signature verifying alleged debt provide debt shall deleted credit reporting agency'}{'input': 'reviewing credit history noticed account knowledge believe identity tampered authorize account inquired way said would like matter resolved removed immediately'}\n",
      "\n",
      "{'input': 'felt lender taking advantage situation threatening hurt credit reporting appraisal charge collection deal go never given link form payment form ordered seller failed perform cancel deal started harassing payment'}\n",
      "{'input': 'due fact file bankruptcy even though bankruptcy discharged year ago way mortgage part bankruptcy want bankruptcy removed therefore due fact time mortgage want report mortgage credit bureau'}\n",
      "{'input': 'continue received update daily credit report company system inc sent letter debt validation believe account belong heard nothing company receive daily update account flagged collection ic system inc mn'}\n",
      "{'input': 'cd amount matured family misplaced paperwork recently found roll anticipated hsbc say sent new york state unclaimed fund search unclaimed fund database show would like claim fund hsbc identify location thank'}\n",
      "{'input': 'company reporting debt credit reporting agency new debt bill bill company sent state current patient responsibility reporting amount owed asked debt deleted credit reporting agency'}\n",
      "{'input': 'filed fraud claim bank america pre paid within time limit someone stole money waiting havent got back told claim denied reason keep hanging got evicted due kid cant eat im street covid due'}\n",
      "{'input': 'car paid full issue due accident receivedtitle free clear'}\n",
      "{'input': 'due covid without work communication impression could marked late covid late hurting moving future error part given forbearance one month pay receive late remark governor massachusetts please remove lates date paid time'}\n",
      "{'input': 'dont know correct place need able use app bank pnc wont allow use app even sign please change b'}\n",
      "{'input': 'credit balance canceled flight without notice credit balance around month bank america false charge credit wiped credit balance amount stealing money'}\n",
      "{'input': 'receiving current copy credit report discovered entry idenitified inquiry qualified deletion report'}\n",
      "{'input': 'checked credit report notice account mine victim identity fraud past provided copy id prove identity'}\n",
      "{'input': 'cd cit bank account number cd due mature point decided renew another month however checked statement since paid interest since need interest added account'}\n",
      "{'input': 'letter sent national credit system request provide validation account allegedly collecting sent letter got make sure get sent certified mail yet hear despite extra time investigate give validation pandemic'}{'input': 'checked credit report saw account resurgent capital service credit one amount time account became delinquent lost job eventually became homeless living one family member another year working side gig stable gainfully employed love settle deletion'}\n",
      "{'input': 'debt handled longer owe credit card please remove credit report'}\n",
      "\n",
      "{'input': 'credit agency violated medical privacy act hipaa reporting fraud medical account outdate never done business medical provider account'}\n",
      "{'input': 'dispute credit report insurance paid get notification day result possibly tell dispute get take day get result would like proof actually looked discrepancy'}\n",
      "{'input': 'account would like get full refund defective printer returned provided capital one requested information regarding dispute however still billed account please see attached paperwork'}{'input': 'account already paid'}\n",
      "{'input': 'ftc violation'}\n",
      "{'input': 'continuance fraudulent attempt inquiry credit report'}\n",
      "\n",
      "{'input': 'asked time copy reward letter earned every time told problem another team need investigate nothing done expire'}\n",
      "{'input': 'provision fair credit reporting act demand item investigated removed report understanding recheck item creditor posted'}\n",
      "{'input': 'got loan totally paid nca put credit report opened even though clearly show last pymt seven year reporting period expiring show new debt collection negatively affect credit seven additional year'}\n",
      "{'input': 'account inquires credit without knowledge'}\n",
      "{'input': 'closed account paid final bill called told nothing left year later showed credit disputed still pursuing'}\n",
      "{'input': 'contacted incorrect information credit report answered still reporting incorrect information'}\n",
      "{'input': 'filing compliant synchrony bank paypal credit harressing month thru mail paying fifth month fixed income hardly pay continue send mail month long accept pay anymore money'}\n",
      "{'input': 'inquiry report authorize inquiry want removed please'}\n",
      "{'input': 'collection bureau account paid full company offered removed result rendered'}\n",
      "{'input': 'debt reported mine contacted ic system avail debt invalid owe nothing debt satisfied stopped business'}\n",
      "{'input': 'ask numerous time credit collection agency show proof account fcra requieres success account belong unless proven otherwise need account deleted deleted account collection agency provide proof requested account continues'}\n",
      "{'input': 'fortiva credit card violated federal equal credit opportunity act discriminating open credit card also allow dispute decision decision process making issuing credit card allow dispute credit card company decision caused financial discrimination'}\n",
      "{'input': 'company refuse update credit report settlement made account provided documentation settled full continue update credit report late damage credit rating patenaude felix'}\n",
      "{'input': 'collection reported credit report mine'}\n",
      "{'input': 'taken checking account done increment robinhood fund robinhood fund robinhood co entry unauthorized contact knowledge company'}\n",
      "{'input': 'amerisave ran credit report never applied mortgage'}\n",
      "{'input': 'discover closed credit card account stated used account month called emailed discover asked reconsider decision gotten reply used card past never late closing account likely effect credit score something may effect account'}\n",
      "{'input': 'one late payment month ago tried calling speak someone forgiveness one late payment year line credit one region seems know need speak keep getting told call number referred number frustrating employee point right direction'}\n",
      "{'input': 'receiving current copy credit report discovered entry identified inquiry qualified deletion report'}\n",
      "{'input': 'everyday last month call work number let ring hang time day harassing work asked stop calling work call cell still call multiple call daily calling hanging'}\n",
      "{'input': 'middle loan modification still reviewing application set sale date'}\n",
      "{'input': 'card issued post adoption subsidy eppicard service recently couldnt use card cant check balance nothing referred fraud department heard anything week waited hold hour still unable reach anyone resolve issue someone help issue'}\n",
      "{'input': 'account listed credit profile belong'}\n",
      "{'input': 'due deception account litigation settlement made heard anything regard payoff loan fall time frame'}\n",
      "{'input': 'cash app didnt refund money someone hack account stole money send account'}\n",
      "{'input': 'still affected covid company wont help'}\n",
      "{'input': 'receiving current copy credit report discovered entry identified inquiry qualified deletion report'}\n",
      "{'input': 'checked reported noticed misrespresnted account inaccuracy'}\n",
      "{'input': 'auto loan already experian file derogatory mark seven year auto loan account fell file several month ago seven year marked reached experian remove account file previously disputed dollar amount'}\n",
      "{'input': 'modification place paying forced insurance added subtract forced insurance amount monthly bill modification end raised mortgage got letter saying going month starting tax insurance included payment always understand keep going'}\n",
      "{'input': 'freedom mortgage corporation endorse insurance check hail damage even though check one week receipt prove even enclosed return next day envelope'}\n",
      "{'input': 'person named calling regarding transaction authorized call started calling coworkers message call number message say consequence call back'}\n",
      "{'input': 'discover provided option credit card order pay debt refusing unlock account'}\n",
      "{'input': 'reviewing credit bureau according account navient continues furnish series account includes negative reporting continuation depleting creditworthiness along possibility extending line credit'}\n",
      "{'input': 'victim identity theft thief opened craudulent credit card state farm bank using personal information charge fraudulent credit card fraudulent sent identity theft report stte farm remove fraudulent account credit report immediately'}\n",
      "{'input': 'money sent friend theey sent bought product already verirfied transaction pay pal still froze fund day want back'}\n",
      "{'input': 'account say late past due payment looking account clearly show amount past due also never paid late credit report show looked look obviously wrong'}\n",
      "{'input': 'trying link pnc business account let'}{'input': 'victim identity theft debt belong please see identity theft report legal affidavit attached'}\n",
      "\n",
      "{'input': 'hi visa prepaidcard prepaid card working trying get issue resolved year back back got resolved please help'}\n",
      "{'input': 'receiving current copy credit report discovered entry idenitified inquiry qualified deletion report'}\n",
      "{'input': 'fraudulent charge appeared account called report close account week later billed fraudulent charge threat interest added paid'}\n",
      "{'input': 'believe late father home foreclosed illegally reading specialized loan service llc violation foreclosure right would like late father file evaluated foreclosure violation'}\n",
      "{'input': 'citibank card balance turned autopay used card forgot autopay made payment date logged saw payment made charged late fee'}{'input': 'trying link pnc account account transfer money pnc order bring account negative balance ive issue lot pretty much site try connect pnc usually denies access account need help getting pnc allow connect bank account account'}\n",
      "{'input': 'credit card company double charged product purchased card purchase made charge duplicated disputed duplicate charge company continues demand pay product twice contacted company made purchase claim payed yet'}\n",
      "\n",
      "{'input': 'enhanced recovery company fl sent enhanced recovery company two letter one last letter verification needed debt totaling company failed respond verify'}\n",
      "{'input': 'reviewing credit report continues furnish inaccurate data credit report account satisfied full requested company investigate negative remark credit report information placed credit file continues deplete score credit worthiness'}\n",
      "{'input': 'chime closed account sent email ask account closed could get remaining fund send following reply time security reason chime unable disclose information closure'}\n",
      "{'input': 'keep closing request investigation credit profile complying submitted personal identification document instance allowed ignored request instance cfpb online portal start dispute many issue credit report compiled'}\n",
      "{'input': 'hello applying assist minority business affected pnc permit link account application order receive grant fund faster'}\n",
      "{'input': 'acct listed closed fraud thats social attached file bank america unsble locate accts social'}\n",
      "{'input': 'cosignor ex wife student loan eligible cosignor release many year contact refuse sign paperwork servicer release without signature exwife int contract believe way keep attached loan requested current sercicer'}\n",
      "{'input': 'collection company reporting outdated fraud account mine done business company'}\n",
      "{'input': 'disputed account numerous time stating erroneous violation fcra fdcpa keep coming back verified violation per violation lawsuit'}\n",
      "{'input': 'attempt remove address tx single family account item either updated deleted please review report detail show detail view report view credit score processed processed account'}\n",
      "{'input': 'collection according hunter warfield believe still owe apartment complex money moving paid deposit lease manger said complex signed lease ignored believe put deposit sent lease agreement received response'}\n",
      "{'input': 'called phone repeatedly right called mother personal cell phone ex boyfriend personal cell phone right next exact number calling neither one spouse unfair act'}\n",
      "{'input': 'bank put gold checking account meant people woth credit card loan bank neither however incurring fee every month since checking account attempting get reimbursed charge refunded said nothing rest'}\n",
      "{'input': 'bank america put pending hold checking account sort fraud review hold something making account super negative use bank account much receive couple friend money last week know boa put amount hold account use checking account still'}{'input': 'remember owning particular account asked agency provide signed paperwork prof really questionable account complied moment'}\n",
      "\n",
      "{'input': 'every month charged interest cash advance already paid capital one card ending ive called ive told payment applied interest cant tell time hard capital charging interest year total dollar month illegally charged plus extra interest accumulated'}\n",
      "{'input': 'card sent wrong address usbankreliacard letting submit change address'}\n",
      "{'input': 'contacted lender three month ago try resolve issue delinquent real estate tax disbursed escrow called numerous time update still absolutely resolution'}\n",
      "{'input': 'check servicer misapplied fund totally incorrect account violating every financial regulation specifically check fund principal interest escrow applied gave account information'}\n",
      "{'input': 'asked transfer money account goldman sachs usa amount instead stole pulled negative reversed negative system without ever giving back external account thereby leaving negative'}\n",
      "{'input': 'recently notified victim identity theft'}\n",
      "{'input': 'mad chase cant get thru sent letter emailed card ending charge something get never received insists sent never got charge believe need disputed investigated please asap'}\n",
      "{'input': 'although know person trying contact told wrong stop calling wait day start explained name threatened report stop still wo stop'}\n",
      "{'input': 'reviewing credit report discovered inaccurate account file disputed account belong account inaccurately placed credit please conduct investigation derogatory mark caused serious damage credit'}\n",
      "{'input': 'receiving current copy credit report discovered entry identified inquiry qualified deletion report'}\n",
      "{'input': 'care credit lowered credit line without notice made payment toward balance available care credit declares need inform credit line deduction'}\n",
      "{'input': 'receiving current copy credit report discovered entry idenitified inquiry qualified deletion report'}\n",
      "{'input': 'cash app account paid product never received believe scammed contacted company nothing want money refunded following'}\n",
      "{'input': 'receiving current copy credit report discovered entry idenitified inquiry qualified deletion report'}\n",
      "{'input': 'capital one reporting account day past due reported credit bureau since may since many payment made account currently date since'}\n",
      "{'input': 'hello starting company starting putting owe balance tried contact company balance wondering account reporting late old balance posted like behind last date activity reporting late day please help account dyck account dyck dyck account dyck'}\n",
      "{'input': 'receiving threatening phone call debt result identity theft'}\n",
      "{'input': 'attempted linking account pnc bank checking account pnc bank stated longer permitted privilege due prior amount overdraft fee account believe unfair'}\n",
      "{'input': 'outstanding child support collection transition credit report also credit report im longer child support taken back forgiven collection im due pay submitted claim removed'}\n",
      "{'input': 'open account notified klarna able resolve issue contacted klarna several time charge account identity stolen police report'}\n",
      "{'input': 'public record bankruptcy record'}\n",
      "{'input': 'applied two amex credit card delta golden platimun last three month denied welcome bonus ineligible however didnt see notification applied want tell people careful future'}{'input': 'link account'}\n",
      "\n",
      "{'input': 'account account mine contacted equifax time remove account mine show proof verify even sent hard copy proof showing mine'}\n",
      "{'input': 'victim identity theft debt belong please see identity theft report legal affidavit attached'}\n",
      "{'input': 'credit management lp credit managemnt told bill inn contacted stated outstanding bill everything good standing credit management refuse contact resolve issue account also searched social security number found account balance'}\n",
      "{'input': 'receiving current copy credit report discovered entry identified inquiry qualified deletion report'}\n",
      "{'input': 'chrysler capital loan recently gone hardship month period late twice unfortunately making big impact credit time payment history'}\n",
      "{'input': 'transfer money site buy digital currency able use money huge scam'}\n",
      "{'input': 'balance reporting account error substantially dropping credit score inhibiting getting home loan account paid tried resolve issue directly failed correct'}\n",
      "{'input': 'pnc account tying use stock app unable bc pnc refuse link account'}\n",
      "{'input': 'filled dispute charge debit card auto repair chase bank chase gave provisional credit day chase deducted account said owe chase bank mechanic replaced break turn messed rack pinion pay chase bank unlawful charge chase bank need investigated'}\n",
      "{'input': 'credit card fraudulently opened name chase bank need account deleted removed credit file'}\n",
      "{'input': 'time respectfully request copy equifax credit report dont know written request ignored would greatly appreciated credit reporting agency mail copy credit report ny professional cooperation greatly appreciated'}\n",
      "{'input': 'year back entered agreement student loan reinstated payment plan part agreement late payment removed account updated credit reporting bureau never done despite u following negatively impacting credit'}\n",
      "{'input': 'bank closed acct per letter week ago sign call wait time horrific never received fund acct today written letter close send fund'}\n",
      "{'input': 'credit card closed bank warrant reciprocated every time call live chat got run around balance received monthly maintenance fee'}{'input': 'code permissible purpose consumer report subject subsection c consumer reporting agency may furnish consumer report following circumstance accordance written instruction consumer relates delete account immediately consumer report give written permissible'}\n",
      "\n",
      "{'input': 'case number need reopen dispute got cancellation proof look attachment cancel service contacted refund lady agent could find payment system asked send payment statement payment billed card told would send supervisor team review one emailed called back yet'}\n",
      "{'input': 'harrassed elderly parent refused provide proof debt owed refused identify reason call contacted email sent letter cease contact refused dispute debt'}\n",
      "{'input': 'credit card opened name authorize'}\n",
      "{'input': 'transunion continue refresh outdated account old account violates fdcpa fcba cra vilates section account'}\n",
      "{'input': 'account belong'}\n",
      "{'input': 'card fraudulent charge yet update fraudulent charge removed account balance due'}\n",
      "{'input': 'receiving current copy credit report discovered entry idenitified inquiry qualified deletion report'}\n",
      "{'input': 'debt collector trying collect debt owed victim identity theft several account opened name social hard road get fixed giving hard time assume think fraud assume see credit whoever opened account made payment stopped guess may consider fraud'}\n",
      "{'input': 'carefully reviewing credit report found account belong time writing disputing inaccurate account hindering better life date'}\n",
      "{'input': 'year ago fico score plummeted point checked credit report found acct opened fraudulently name contacted credit bureau investigation removed report year later fraudulent acct appears credit report time collection agency balance'}\n",
      "{'input': 'receiving current copy credit report discovered entry identified inquiry qualified deletion report'}\n",
      "{'input': 'doctor office sent blood work wrong lab told several time insurance changed doctor mistake mine collection account past due status updated radius global solution llcxxxx account number'}\n",
      "{'input': 'deposit friend check account bank cash check give friend money say owe money back bank said way cash check clear guess cleared want give money back bank sent letter said took care problem put credit report'}\n",
      "{'input': 'card charged without knowledge transaction authorize transaction total come month total transaction help cancelling card tried calling help provided making police report well reliacard u bank helpful filing dispute way online put hold two hour help'}\n",
      "{'input': 'call transunion bout inquiry report didnt authorize car dealership gave inquiry didnt need vechile try resolve tell fraud several inquiry also'}\n",
      "{'input': 'receiving current copy credit report discovered entry identified inquiry qualified deletion report'}\n",
      "{'input': 'first credit gym membership cancelled due sickness told account would closed charge close account placed collection called try many time removed credit report'}\n",
      "{'input': 'account number credit card end paid balance reflecting incorrect balance credit report'}\n",
      "{'input': 'move layed due covid unaware charge added credit report tried work way pay adhere resolution offered'}\n",
      "{'input': 'negative remark placed credit card account amount dispute never late account bank america paid everything time know negative remark placed account boa offer payment deferral request due covid pandemic signed pursue'}\n",
      "{'input': 'collection prof entered collection name year behalf however never seen medical center dependent reason believe fraud would like removed credit report immediately please collection professional il'}\n",
      "{'input': 'victim identity theft debt belong please see identity theft report legal affidavit attached'}\n",
      "{'input': 'amidst worldwide crisis facing going pandemic carrying away livelihood job affected still important good positive remark report contacted creditor failed provide necessary document prove account debt belongs resulted loss credit rating'}\n",
      "{'input': 'hello bank took fund ask copy transaction since open account'}\n",
      "{'input': 'durango credit collection attempting collect debt located colorado patient refuse remove debt collection account well credit bureau account debt never patient clinic'}\n",
      "{'input': 'waiting account credited bonus supposed receive meeting new account requirement called check holding ten min transferred hung'}\n",
      "{'input': 'axos bank charged nearly year interest year cd month left full maturity axos bank kicked teeth needed money due family emergency global pandemic loyal customer multiple cd year span still severely punished cruel heartless axos bank'}\n"
     ]
    }
   ],
   "source": [
    "from ibm_watson_machine_learning.foundation_models import Model\n",
    "model_id = \"google/flan-t5-xl\"\n",
    "from multiprocessing.pool import ThreadPool\n",
    "from time import sleep\n",
    "from random import randint\n",
    "\n",
    "max_examples=200\n",
    "inputs=inputs_test[:max_examples]\n",
    "y_test=y_test[:max_examples]\n",
    "\n",
    "results_zs = []\n",
    "asscoiated_test_value= []\n",
    "parameters = {\n",
    "                     \"decoding_method\": \"greedy\",\n",
    "                     \"min_new_tokens\": 1,\n",
    "                     \"max_new_tokens\": 1024,\n",
    "                     \"stop_sequences\": [\n",
    "                     \"Input:\",\n",
    "                     \"\\n\\n\\n\"\n",
    "                     ]\n",
    "                }\n",
    "\n",
    "credentials = { \n",
    "                \"url\"    : \"https://us-south.ml.cloud.ibm.com\", \n",
    "                \"apikey\" : \"YOUR_API_KEY\"\n",
    "                }\n",
    "project_id=\"YOUR_PROJECT_ID\"\n",
    "\n",
    "model = Model( model_id, credentials, parameters, project_id )\n",
    "\n",
    "\n",
    "\n",
    "def dosomething(test, y_test):\n",
    "    sleep(5)\n",
    "    results_zs.append(model.generate(instruction.format(sentence =test['input'])))\n",
    "    asscoiated_test_value.append(y_test)\n",
    "    print(test)\n",
    "\n",
    "\n",
    "with ThreadPool(processes=5) as pool:\n",
    "    pool.starmap(dosomething, zip(inputs,y_test))\n"
   ]
  },
  {
   "cell_type": "code",
   "execution_count": 18,
   "metadata": {},
   "outputs": [
    {
     "data": {
      "text/plain": [
       "[{'model_id': 'google/flan-t5-xl',\n",
       "  'created_at': '2024-05-06T10:01:43.423Z',\n",
       "  'results': [{'generated_text': 'credit_reporting',\n",
       "    'generated_token_count': 6,\n",
       "    'input_token_count': 94,\n",
       "    'stop_reason': 'eos_token'}],\n",
       "  'system': {'warnings': [{'message': 'This model is a Non-IBM Product governed by a third-party license that may impose use restrictions and other obligations. By using this model you agree to its terms as identified in the following URL.',\n",
       "     'id': 'disclaimer_warning',\n",
       "     'more_info': 'https://dataplatform.cloud.ibm.com/docs/content/wsj/analyze-data/fm-models.html?context=wx'}]}},\n",
       " {'model_id': 'google/flan-t5-xl',\n",
       "  'created_at': '2024-05-06T10:01:43.444Z',\n",
       "  'results': [{'generated_text': 'credit_card',\n",
       "    'generated_token_count': 4,\n",
       "    'input_token_count': 77,\n",
       "    'stop_reason': 'eos_token'}],\n",
       "  'system': {'warnings': [{'message': 'This model is a Non-IBM Product governed by a third-party license that may impose use restrictions and other obligations. By using this model you agree to its terms as identified in the following URL.',\n",
       "     'id': 'disclaimer_warning',\n",
       "     'more_info': 'https://dataplatform.cloud.ibm.com/docs/content/wsj/analyze-data/fm-models.html?context=wx'}]}},\n",
       " {'model_id': 'google/flan-t5-xl',\n",
       "  'created_at': '2024-05-06T10:01:43.517Z',\n",
       "  'results': [{'generated_text': 'credit_reporting',\n",
       "    'generated_token_count': 6,\n",
       "    'input_token_count': 93,\n",
       "    'stop_reason': 'eos_token'}],\n",
       "  'system': {'warnings': [{'message': 'This model is a Non-IBM Product governed by a third-party license that may impose use restrictions and other obligations. By using this model you agree to its terms as identified in the following URL.',\n",
       "     'id': 'disclaimer_warning',\n",
       "     'more_info': 'https://dataplatform.cloud.ibm.com/docs/content/wsj/analyze-data/fm-models.html?context=wx'}]}},\n",
       " {'model_id': 'google/flan-t5-xl',\n",
       "  'created_at': '2024-05-06T10:01:43.516Z',\n",
       "  'results': [{'generated_text': 'credit_reporting',\n",
       "    'generated_token_count': 6,\n",
       "    'input_token_count': 116,\n",
       "    'stop_reason': 'eos_token'}],\n",
       "  'system': {'warnings': [{'message': 'This model is a Non-IBM Product governed by a third-party license that may impose use restrictions and other obligations. By using this model you agree to its terms as identified in the following URL.',\n",
       "     'id': 'disclaimer_warning',\n",
       "     'more_info': 'https://dataplatform.cloud.ibm.com/docs/content/wsj/analyze-data/fm-models.html?context=wx'}]}},\n",
       " {'model_id': 'google/flan-t5-xl',\n",
       "  'created_at': '2024-05-06T10:01:43.476Z',\n",
       "  'results': [{'generated_text': 'credit_reporting',\n",
       "    'generated_token_count': 6,\n",
       "    'input_token_count': 82,\n",
       "    'stop_reason': 'eos_token'}],\n",
       "  'system': {'warnings': [{'message': 'This model is a Non-IBM Product governed by a third-party license that may impose use restrictions and other obligations. By using this model you agree to its terms as identified in the following URL.',\n",
       "     'id': 'disclaimer_warning',\n",
       "     'more_info': 'https://dataplatform.cloud.ibm.com/docs/content/wsj/analyze-data/fm-models.html?context=wx'}]}}]"
      ]
     },
     "execution_count": 18,
     "metadata": {},
     "output_type": "execute_result"
    }
   ],
   "source": [
    "results_zs[:5]"
   ]
  },
  {
   "cell_type": "code",
   "execution_count": 19,
   "metadata": {},
   "outputs": [
    {
     "name": "stdout",
     "output_type": "stream",
     "text": [
      "['credit_reporting', 'credit_card', 'credit_reporting', 'credit_reporting', 'credit_reporting', 'retail_banking', 'credit_reporting', 'credit_card', 'credit_reporting', 'mortgages_and_loans', 'credit_reporting', 'debt_collection', 'credit_reporting', 'credit_card', 'credit_reporting', 'credit_reporting', 'credit_card', 'credit_reporting', 'credit_card', 'mortgages_and_loans', 'credit_reporting', 'retail_banking', 'debt_collection', 'credit_reporting', 'credit_reporting', 'credit_reporting', 'retail_banking', 'credit_reporting', 'credit_reporting', 'credit_reporting', 'credit_reporting', 'credit_reporting', 'retail_banking', 'credit_reporting', 'retail_banking', 'credit_reporting', 'credit_reporting', 'retail_banking', 'credit_reporting', 'mortgages_and_loans', 'credit_reporting', 'retail_banking', 'credit_card', 'debt_collection', 'credit_card', 'retail_banking', 'credit_reporting', 'credit_card', 'credit_reporting', 'credit_reporting', 'credit_reporting', 'credit_reporting', 'credit_reporting', 'credit_reporting', 'credit_reporting', 'retail_banking', 'credit_reporting', 'credit_reporting', 'credit_reporting', 'credit_reporting', 'retail_banking', 'credit_reporting', 'credit_reporting', 'credit_reporting', 'retail_banking', 'credit_reporting', 'credit_reporting', 'credit_reporting', 'credit_reporting', 'credit_reporting', 'credit_card', 'retail_banking', 'credit_reporting', 'credit_reporting', 'credit_reporting', 'credit_reporting', 'credit_reporting', 'credit_reporting', 'credit_reporting', 'credit_reporting', 'credit_reporting', 'credit_reporting', 'credit_reporting', 'credit_reporting', 'credit_reporting', 'credit_card', 'credit_reporting', 'credit_reporting', 'credit_reporting', 'mortgages_and_loans', 'credit_card', 'credit_reporting', 'credit_reporting', 'credit_reporting', 'mortgages_and_loans', 'credit_card', 'credit_reporting', 'credit_reporting', 'retail_banking', 'credit_reporting', 'credit_reporting', 'credit_reporting', 'credit_reporting', 'mortgages_and_loans', 'mortgages_and_loans', 'credit_reporting', 'credit_card', 'credit_reporting', 'credit_reporting', 'credit_reporting', 'credit_reporting', 'retail_banking', 'credit_reporting', 'credit_card', 'credit_reporting', 'credit_reporting', 'credit_reporting', 'credit_card', 'retail_banking', 'credit_card', 'debt_collection', 'credit_reporting', 'retail_banking', 'credit_reporting', 'retail_banking', 'credit_reporting', 'credit_reporting', 'credit_reporting', 'credit_reporting', 'credit_reporting', 'debt_collection', 'credit_reporting', 'retail_banking', 'retail_banking', 'credit_reporting', 'credit_card', 'credit_card', 'debt_collection', 'credit_reporting', 'credit_reporting', 'credit_reporting', 'credit_card', 'credit_reporting', 'credit_reporting', 'credit_reporting', 'credit_card', 'credit_reporting', 'credit_card', 'credit_reporting', 'credit_reporting', 'credit_reporting', 'credit_reporting', 'retail_banking', 'credit_reporting', 'credit_reporting', 'credit_reporting', 'credit_card', 'retail_banking', 'credit_reporting', 'credit_reporting', 'credit_reporting', 'credit_reporting', 'credit_reporting', 'retail_banking', 'credit_reporting', 'retail_banking', 'credit_reporting', 'credit_card', 'credit_reporting', 'credit_reporting', 'retail_banking', 'credit_card', 'credit_reporting', 'credit_reporting', 'debt_collection', 'credit_card', 'credit_reporting', 'retail_banking', 'credit_card', 'credit_reporting', 'credit_reporting', 'credit_reporting', 'credit_reporting', 'credit_reporting', 'credit_reporting', 'credit_reporting', 'credit_card', 'credit_reporting', 'credit_reporting', 'credit_reporting', 'credit_reporting', 'credit_reporting', 'credit_card', 'credit_reporting', 'credit_reporting', 'credit_reporting', 'retail_banking', 'credit_reporting', 'retail_banking', 'credit_reporting']\n"
     ]
    }
   ],
   "source": [
    "y_pred_zs = []\n",
    "for i in range(len(results_zs)):\n",
    "    x = results_zs[i]['results'][0]['generated_text']\n",
    "    \n",
    "    y_pred_zs.append(x)\n",
    "\n",
    "print(y_pred_zs)"
   ]
  },
  {
   "cell_type": "code",
   "execution_count": 20,
   "metadata": {},
   "outputs": [
    {
     "name": "stdout",
     "output_type": "stream",
     "text": [
      "0.535\n"
     ]
    }
   ],
   "source": [
    "print(accuracy_score(y_pred_zs, asscoiated_test_value))"
   ]
  },
  {
   "cell_type": "code",
   "execution_count": 21,
   "metadata": {},
   "outputs": [
    {
     "name": "stdout",
     "output_type": "stream",
     "text": [
      "                     precision    recall  f1-score   support\n",
      "\n",
      "        credit_card       0.75      0.68      0.71        31\n",
      "   credit_reporting       0.38      0.89      0.53        56\n",
      "    debt_collection       0.86      0.11      0.19        57\n",
      "mortgages_and_loans       1.00      0.33      0.50        21\n",
      "     retail_banking       0.85      0.66      0.74        35\n",
      "\n",
      "           accuracy                           0.54       200\n",
      "          macro avg       0.77      0.53      0.54       200\n",
      "       weighted avg       0.72      0.54      0.50       200\n",
      "\n"
     ]
    }
   ],
   "source": [
    "classes = ['credit_card', 'debt_collection','mortgages_and_loans','retail_banking', 'credit_reporting']\n",
    "print(classification_report(asscoiated_test_value, y_pred_zs) )"
   ]
  },
  {
   "cell_type": "markdown",
   "metadata": {},
   "source": [
    "### 2. Test Performance Tuned FLAN-T5 "
   ]
  },
  {
   "cell_type": "markdown",
   "metadata": {},
   "source": [
    "#### 3.1 Prompt Tuning Approach"
   ]
  },
  {
   "cell_type": "markdown",
   "metadata": {},
   "source": [
    "Setting Credentials"
   ]
  },
  {
   "cell_type": "code",
   "execution_count": 24,
   "metadata": {},
   "outputs": [],
   "source": [
    "import getpass\n",
    "\n",
    "credentials = {\n",
    "    \"url\": \"https://us-south.ml.cloud.ibm.com\",\n",
    "    \"apikey\": \"YOUR_API_KEY\"\n",
    "}"
   ]
  },
  {
   "cell_type": "markdown",
   "metadata": {},
   "source": [
    "Setting Project ID"
   ]
  },
  {
   "cell_type": "code",
   "execution_count": 25,
   "metadata": {},
   "outputs": [
    {
     "data": {
      "text/plain": [
       "'SUCCESS'"
      ]
     },
     "execution_count": 25,
     "metadata": {},
     "output_type": "execute_result"
    }
   ],
   "source": [
    "\n",
    "project_id=\"YOUR_PROJECT_ID\"\n",
    "\n",
    "from ibm_watsonx_ai import APIClient\n",
    "\n",
    "client = APIClient(credentials)\n",
    "\n",
    "client.set.default_project(project_id)"
   ]
  },
  {
   "cell_type": "markdown",
   "metadata": {},
   "source": [
    "Accessing Tuned Model"
   ]
  },
  {
   "cell_type": "code",
   "execution_count": 26,
   "metadata": {},
   "outputs": [],
   "source": [
    "from ibm_watsonx_ai.foundation_models import ModelInference\n",
    "\n",
    "\n",
    "\n",
    "tuned_model = ModelInference(\n",
    "    deployment_id='770596a8-30cd-49fa-b301-371c78f86699',\n",
    "    params=generate_params,\n",
    "    api_client=client\n",
    ")"
   ]
  },
  {
   "cell_type": "code",
   "execution_count": 27,
   "metadata": {},
   "outputs": [
    {
     "name": "stdout",
     "output_type": "stream",
     "text": [
      "{'input': 'good evening already dispute bureau requested proof ownership far could meet requirement reason filling complaint'}\n",
      "{'input': 'date amount converted purchase serviced supposedly getting wanted get money back seller doesnt want give back said doesnt dont know money want back'}\n",
      "{'input': 'hello im contacting cfpb help car showed credit report closed want removed credit score rand dont want closed account show account help'}\n",
      "{'input': 'tired bank declining credit card application reason refuse approve dont appreciate'}\n",
      "{'input': 'afni inc reported new credit account original debtor amount account believe someone else name first reported six year ago illegally showing credit report brand new delinquency result credit score dropped point disputed action often take many month respond'}\n",
      "{'input': 'using app named pay rent letting link pnc bank account pay directly app'}\n",
      "{'input': 'cancelled card charged'}\n",
      "{'input': 'three credit bureau equifax misreported information credit report removed immediately submitted dispute document driver license social security card three bureau information deleted removed see attached file also notarized'}\n",
      "{'input': 'account federal student loan dept closed balance refinanced department education dept credit report need accurately reflect updated status'}\n",
      "{'input': 'trying loan since loan house provider help refinance modification loan term expires balance around due pendemic job flat denied modification please help'}\n",
      "{'input': 'debt collection company reporting inaccurate information alleged debt mine responded within day violation provided contract bearing signature connecting debt'}\n",
      "{'input': 'tree credit reporting company given day resolve complaint never received anything'}\n",
      "{'input': 'commonwealth financial attempting collect debt mine company reported account opened reporting credit'}\n",
      "{'input': 'capital one credit card opened name authorize'}\n",
      "{'input': 'company called credit management sent bad debt notice credit agency debt owe contacted week ago heard back word mark credit report affected credit negatively substantial way need make responsive order get bad mark removed asap'}\n",
      "{'input': 'asked verifiable proof debt mine given debt cause identity theft disputed early part please help resolve matter'}\n",
      "{'input': 'victim identity theft recently pulled credit noticed inaccuracy reached credit company bureau company removed fraudulent account report issue except one bureau kept account td target none account authorized opened anyone associated behalf'}\n",
      "{'input': 'co credut card opened fraudulently using personal information authorized country see attached ftc affidavit identity theft'}\n",
      "{'input': 'called amex serve find issue card told fix issue representative hung declined every transaction attempted since deposit went account refused access u based call center speak someone understand understand'}\n",
      "{'input': 'requested sps financial debit account escrow tax insurance payment behind escrow payment making good debt want sps financial accept payment somehow sell home future tax sale setup complete payment partial payment'}\n",
      "{'input': 'failed give proper validation debt mailed debt validation request certified mail'}\n",
      "{'input': 'coinbase frozen available cash withdraw available cash deposit bank account holding money day received email showing fund available locked'}\n",
      "{'input': 'debt showing credit report progressive dating time show debt owed false information requested item removed nothing done'}\n",
      "{'input': 'loan comenity always made payment time reason realized late payment credit report see always stellar payment record company tried contacting comenity successful resolution reporting late definitely error part never day late'}\n",
      "{'input': 'account show past due however never past due requested forbearance granted however sent something sign mail didnt receive sign something sent said would taken care however show past due case'}\n",
      "{'input': 'three credit bureau stating account showing status consumer dispute consumer disputing disagreeing finding'}\n",
      "{'input': 'bank america stated edd closed edd account however edd still paying edd account bank america speak release money'}\n",
      "{'input': 'receiving current copy credit report discovered entry identified inquiry qualified deletion report'}\n",
      "{'input': 'bought new day make first payment bought car mid received bill payment due end well within day nothing statement indicating payment required'}\n",
      "{'input': 'credit acceptance failed give proper validation debt stated account information account furnishing consumer report'}\n",
      "{'input': 'cash app refusing give access account keep telling unlink account would like withdraw funding cant feel like withdraw bank file send check'}\n",
      "{'input': 'link pnc account'}\n",
      "{'input': 'found last week supposedly past due amount thought called fixed issue today mother called tell currently harassing please stop'}\n",
      "{'input': 'erased complaint saved download please see attachment file complaint thank capital one information copy complaint filed company stating refund sent also recording phone call say'}\n",
      "{'input': 'bbva report credit report late account complaint company fix reporting today noticed company havent reporting information correctly posted payment correct made double payment account called deferred payment due injury loss family member'}\n",
      "{'input': 'time respectfully request copy experian credit report dont know written request ignored would greatly appreciated credit reporting agency mail copy credit report fl'}\n",
      "{'input': 'filed ftc account stated u dept ed deptedxxxx'}\n",
      "{'input': 'believe harassed mortgage home preservation specialist pursuant second initiating document requesting information mortgage company placed mortgage account extended payment suspension forbearance mid response required'}\n",
      "{'input': 'cash app froze account getting direct deposit sent account cash app verified froze account wont let send withdraw spend reached back sll'}\n",
      "{'input': 'receive anything properly contacted able dispute charge showed collection sure mine amount high know account ca recall must old'}\n",
      "{'input': 'company continues try send bill medical debt medicaid provided medicaid id number attaching medical card show insured since collection updated providing evidence insurance'}\n",
      "{'input': 'bank america returned overpayment contacted twice last week promised return money back original payment account received money shut bank america alaska card account without consent still confirmation money back know else'}\n",
      "{'input': 'bank america case billed card unauthorized charge'}\n",
      "{'input': 'link pnc bank account'}\n",
      "{'input': 'aldous reporting debt credit file owe recently checked credit file noticed debt called paid immediately never received phone call notice letter debt violates day right dispute need account asap'}\n",
      "{'input': 'hello name phone received important legal notice claim mass commonwealth superior court settlement part navient solution llc claim form little bite worried claim maybe fraud please advice'}\n",
      "{'input': 'reason frozen coinbase account thousand dollar trying resolve support team offered criminally vague statement said longer eligible link payment method able provide additional mean wo give money back wo tell theft'}\n",
      "{'input': 'called number york county resolve debt listed reference going pay release judgement attempting obtain housing would accept payment could remember exact address time debt incurred way get taken care quickly please help'}\n",
      "{'input': 'ace cash express called wife grandmother saying legal complaint charge defraud lending institution called told pay dollar dollar loan proceed charge'}\n",
      "{'input': 'account opened without authorization'}\n",
      "{'input': 'reviewing credit history noticed account knowledge believe identity tampered authorize account inquired way said would like matter resolved removed immediately'}\n",
      "{'input': 'harvard collection service placed debt appears medical debt never received notice documentation support owe debt asking see original contract release form signature verifying alleged debt provide debt shall deleted credit reporting agency'}\n",
      "{'input': 'felt lender taking advantage situation threatening hurt credit reporting appraisal charge collection deal go never given link form payment form ordered seller failed perform cancel deal started harassing payment'}\n",
      "{'input': 'due fact file bankruptcy even though bankruptcy discharged year ago way mortgage part bankruptcy want bankruptcy removed therefore due fact time mortgage want report mortgage credit bureau'}\n",
      "{'input': 'continue received update daily credit report company system inc sent letter debt validation believe account belong heard nothing company receive daily update account flagged collection ic system inc mn'}\n",
      "{'input': 'filed fraud claim bank america pre paid within time limit someone stole money waiting havent got back told claim denied reason keep hanging got evicted due kid cant eat im street covid due'}\n",
      "{'input': 'due covid without work communication impression could marked late covid late hurting moving future error part given forbearance one month pay receive late remark governor massachusetts please remove lates date paid time'}\n",
      "{'input': 'cd amount matured family misplaced paperwork recently found roll anticipated hsbc say sent new york state unclaimed fund search unclaimed fund database show would like claim fund hsbc identify location thank'}\n",
      "{'input': 'car paid full issue due accident receivedtitle free clear'}\n",
      "{'input': 'company reporting debt credit reporting agency new debt bill bill company sent state current patient responsibility reporting amount owed asked debt deleted credit reporting agency'}\n",
      "{'input': 'receiving current copy credit report discovered entry idenitified inquiry qualified deletion report'}\n",
      "{'input': 'cd cit bank account number cd due mature point decided renew another month however checked statement since paid interest since need interest added account'}\n",
      "{'input': 'credit balance canceled flight without notice credit balance around month bank america false charge credit wiped credit balance amount stealing money'}\n",
      "{'input': 'checked credit report notice account mine victim identity fraud past provided copy id prove identity'}\n",
      "{'input': 'dont know correct place need able use app bank pnc wont allow use app even sign please change b'}\n",
      "{'input': 'checked credit report saw account resurgent capital service credit one amount time account became delinquent lost job eventually became homeless living one family member another year working side gig stable gainfully employed love settle deletion'}\n",
      "{'input': 'letter sent national credit system request provide validation account allegedly collecting sent letter got make sure get sent certified mail yet hear despite extra time investigate give validation pandemic'}\n",
      "{'input': 'dispute credit report insurance paid get notification day result possibly tell dispute get take day get result would like proof actually looked discrepancy'}\n",
      "{'input': 'credit agency violated medical privacy act hipaa reporting fraud medical account outdate never done business medical provider account'}\n",
      "{'input': 'debt handled longer owe credit card please remove credit report'}\n",
      "{'input': 'account already paid'}\n",
      "{'input': 'account would like get full refund defective printer returned provided capital one requested information regarding dispute however still billed account please see attached paperwork'}\n",
      "{'input': 'asked time copy reward letter earned every time told problem another team need investigate nothing done expire'}\n",
      "{'input': 'ftc violation'}\n",
      "{'input': 'continuance fraudulent attempt inquiry credit report'}\n",
      "{'input': 'contacted incorrect information credit report answered still reporting incorrect information'}\n",
      "{'input': 'closed account paid final bill called told nothing left year later showed credit disputed still pursuing'}\n",
      "{'input': 'got loan totally paid nca put credit report opened even though clearly show last pymt seven year reporting period expiring show new debt collection negatively affect credit seven additional year'}\n",
      "{'input': 'provision fair credit reporting act demand item investigated removed report understanding recheck item creditor posted'}\n",
      "{'input': 'account inquires credit without knowledge'}\n",
      "{'input': 'collection bureau account paid full company offered removed result rendered'}\n",
      "{'input': 'filing compliant synchrony bank paypal credit harressing month thru mail paying fifth month fixed income hardly pay continue send mail month long accept pay anymore money'}\n",
      "{'input': 'ask numerous time credit collection agency show proof account fcra requieres success account belong unless proven otherwise need account deleted deleted account collection agency provide proof requested account continues'}\n",
      "{'input': 'debt reported mine contacted ic system avail debt invalid owe nothing debt satisfied stopped business'}\n",
      "{'input': 'inquiry report authorize inquiry want removed please'}\n",
      "{'input': 'company refuse update credit report settlement made account provided documentation settled full continue update credit report late damage credit rating patenaude felix'}\n",
      "{'input': 'fortiva credit card violated federal equal credit opportunity act discriminating open credit card also allow dispute decision decision process making issuing credit card allow dispute credit card company decision caused financial discrimination'}\n",
      "{'input': 'amerisave ran credit report never applied mortgage'}\n",
      "{'input': 'taken checking account done increment robinhood fund robinhood fund robinhood co entry unauthorized contact knowledge company'}\n",
      "{'input': 'collection reported credit report mine'}\n",
      "{'input': 'one late payment month ago tried calling speak someone forgiveness one late payment year line credit one region seems know need speak keep getting told call number referred number frustrating employee point right direction'}\n",
      "{'input': 'discover closed credit card account stated used account month called emailed discover asked reconsider decision gotten reply used card past never late closing account likely effect credit score something may effect account'}\n",
      "{'input': 'middle loan modification still reviewing application set sale date'}\n",
      "{'input': 'everyday last month call work number let ring hang time day harassing work asked stop calling work call cell still call multiple call daily calling hanging'}\n",
      "{'input': 'receiving current copy credit report discovered entry identified inquiry qualified deletion report'}\n",
      "{'input': 'due deception account litigation settlement made heard anything regard payoff loan fall time frame'}\n",
      "{'input': 'cash app didnt refund money someone hack account stole money send account'}\n",
      "{'input': 'card issued post adoption subsidy eppicard service recently couldnt use card cant check balance nothing referred fraud department heard anything week waited hold hour still unable reach anyone resolve issue someone help issue'}\n",
      "{'input': 'account listed credit profile belong'}\n",
      "{'input': 'still affected covid company wont help'}\n",
      "{'input': 'receiving current copy credit report discovered entry identified inquiry qualified deletion report'}\n",
      "{'input': 'auto loan already experian file derogatory mark seven year auto loan account fell file several month ago seven year marked reached experian remove account file previously disputed dollar amount'}\n",
      "{'input': 'checked reported noticed misrespresnted account inaccuracy'}\n",
      "{'input': 'freedom mortgage corporation endorse insurance check hail damage even though check one week receipt prove even enclosed return next day envelope'}\n",
      "{'input': 'modification place paying forced insurance added subtract forced insurance amount monthly bill modification end raised mortgage got letter saying going month starting tax insurance included payment always understand keep going'}\n",
      "{'input': 'person named calling regarding transaction authorized call started calling coworkers message call number message say consequence call back'}\n",
      "{'input': 'victim identity theft thief opened craudulent credit card state farm bank using personal information charge fraudulent credit card fraudulent sent identity theft report stte farm remove fraudulent account credit report immediately'}\n",
      "{'input': 'reviewing credit bureau according account navient continues furnish series account includes negative reporting continuation depleting creditworthiness along possibility extending line credit'}\n",
      "{'input': 'discover provided option credit card order pay debt refusing unlock account'}\n",
      "{'input': 'money sent friend theey sent bought product already verirfied transaction pay pal still froze fund day want back'}\n",
      "{'input': 'account say late past due payment looking account clearly show amount past due also never paid late credit report show looked look obviously wrong'}\n",
      "{'input': 'receiving current copy credit report discovered entry idenitified inquiry qualified deletion report'}\n",
      "{'input': 'hi visa prepaidcard prepaid card working trying get issue resolved year back back got resolved please help'}\n",
      "{'input': 'trying link pnc business account let'}\n",
      "{'input': 'victim identity theft debt belong please see identity theft report legal affidavit attached'}\n",
      "{'input': 'believe late father home foreclosed illegally reading specialized loan service llc violation foreclosure right would like late father file evaluated foreclosure violation'}\n",
      "{'input': 'trying link pnc account account transfer money pnc order bring account negative balance ive issue lot pretty much site try connect pnc usually denies access account need help getting pnc allow connect bank account account'}\n",
      "{'input': 'citibank card balance turned autopay used card forgot autopay made payment date logged saw payment made charged late fee'}\n",
      "{'input': 'fraudulent charge appeared account called report close account week later billed fraudulent charge threat interest added paid'}\n",
      "{'input': 'credit card company double charged product purchased card purchase made charge duplicated disputed duplicate charge company continues demand pay product twice contacted company made purchase claim payed yet'}\n",
      "{'input': 'reviewing credit report continues furnish inaccurate data credit report account satisfied full requested company investigate negative remark credit report information placed credit file continues deplete score credit worthiness'}\n",
      "{'input': 'hello applying assist minority business affected pnc permit link account application order receive grant fund faster'}\n",
      "{'input': 'keep closing request investigation credit profile complying submitted personal identification document instance allowed ignored request instance cfpb online portal start dispute many issue credit report compiled'}\n",
      "{'input': 'enhanced recovery company fl sent enhanced recovery company two letter one last letter verification needed debt totaling company failed respond verify'}\n",
      "{'input': 'chime closed account sent email ask account closed could get remaining fund send following reply time security reason chime unable disclose information closure'}\n",
      "{'input': 'cosignor ex wife student loan eligible cosignor release many year contact refuse sign paperwork servicer release without signature exwife int contract believe way keep attached loan requested current sercicer'}\n",
      "{'input': 'disputed account numerous time stating erroneous violation fcra fdcpa keep coming back verified violation per violation lawsuit'}\n",
      "{'input': 'collection company reporting outdated fraud account mine done business company'}\n",
      "{'input': 'acct listed closed fraud thats social attached file bank america unsble locate accts social'}\n",
      "{'input': 'attempt remove address tx single family account item either updated deleted please review report detail show detail view report view credit score processed processed account'}\n",
      "{'input': 'collection according hunter warfield believe still owe apartment complex money moving paid deposit lease manger said complex signed lease ignored believe put deposit sent lease agreement received response'}\n",
      "{'input': 'bank put gold checking account meant people woth credit card loan bank neither however incurring fee every month since checking account attempting get reimbursed charge refunded said nothing rest'}\n",
      "{'input': 'remember owning particular account asked agency provide signed paperwork prof really questionable account complied moment'}\n",
      "{'input': 'called phone repeatedly right called mother personal cell phone ex boyfriend personal cell phone right next exact number calling neither one spouse unfair act'}\n",
      "{'input': 'bank america put pending hold checking account sort fraud review hold something making account super negative use bank account much receive couple friend money last week know boa put amount hold account use checking account still'}\n",
      "{'input': 'every month charged interest cash advance already paid capital one card ending ive called ive told payment applied interest cant tell time hard capital charging interest year total dollar month illegally charged plus extra interest accumulated'}\n",
      "{'input': 'contacted lender three month ago try resolve issue delinquent real estate tax disbursed escrow called numerous time update still absolutely resolution'}\n",
      "{'input': 'asked transfer money account goldman sachs usa amount instead stole pulled negative reversed negative system without ever giving back external account thereby leaving negative'}\n",
      "{'input': 'card sent wrong address usbankreliacard letting submit change address'}\n",
      "{'input': 'check servicer misapplied fund totally incorrect account violating every financial regulation specifically check fund principal interest escrow applied gave account information'}\n",
      "{'input': 'recently notified victim identity theft'}\n",
      "{'input': 'although know person trying contact told wrong stop calling wait day start explained name threatened report stop still wo stop'}\n",
      "{'input': 'reviewing credit report discovered inaccurate account file disputed account belong account inaccurately placed credit please conduct investigation derogatory mark caused serious damage credit'}\n",
      "{'input': 'mad chase cant get thru sent letter emailed card ending charge something get never received insists sent never got charge believe need disputed investigated please asap'}\n",
      "{'input': 'receiving current copy credit report discovered entry identified inquiry qualified deletion report'}\n",
      "{'input': 'care credit lowered credit line without notice made payment toward balance available care credit declares need inform credit line deduction'}\n",
      "{'input': 'receiving current copy credit report discovered entry idenitified inquiry qualified deletion report'}\n",
      "{'input': 'cash app account paid product never received believe scammed contacted company nothing want money refunded following'}\n",
      "{'input': 'receiving current copy credit report discovered entry idenitified inquiry qualified deletion report'}\n",
      "{'input': 'capital one reporting account day past due reported credit bureau since may since many payment made account currently date since'}\n",
      "{'input': 'hello starting company starting putting owe balance tried contact company balance wondering account reporting late old balance posted like behind last date activity reporting late day please help account dyck account dyck dyck account dyck'}\n",
      "{'input': 'attempted linking account pnc bank checking account pnc bank stated longer permitted privilege due prior amount overdraft fee account believe unfair'}\n",
      "{'input': 'open account notified klarna able resolve issue contacted klarna several time charge account identity stolen police report'}\n",
      "{'input': 'outstanding child support collection transition credit report also credit report im longer child support taken back forgiven collection im due pay submitted claim removed'}\n",
      "{'input': 'receiving threatening phone call debt result identity theft'}\n",
      "{'input': 'public record bankruptcy record'}\n",
      "{'input': 'account account mine contacted equifax time remove account mine show proof verify even sent hard copy proof showing mine'}\n",
      "{'input': 'link account'}\n",
      "{'input': 'victim identity theft debt belong please see identity theft report legal affidavit attached'}\n",
      "{'input': 'applied two amex credit card delta golden platimun last three month denied welcome bonus ineligible however didnt see notification applied want tell people careful future'}\n",
      "{'input': 'credit management lp credit managemnt told bill inn contacted stated outstanding bill everything good standing credit management refuse contact resolve issue account also searched social security number found account balance'}\n",
      "{'input': 'balance reporting account error substantially dropping credit score inhibiting getting home loan account paid tried resolve issue directly failed correct'}\n",
      "{'input': 'receiving current copy credit report discovered entry identified inquiry qualified deletion report'}\n",
      "{'input': 'transfer money site buy digital currency able use money huge scam'}\n",
      "{'input': 'chrysler capital loan recently gone hardship month period late twice unfortunately making big impact credit time payment history'}\n",
      "{'input': 'pnc account tying use stock app unable bc pnc refuse link account'}\n",
      "{'input': 'year back entered agreement student loan reinstated payment plan part agreement late payment removed account updated credit reporting bureau never done despite u following negatively impacting credit'}\n",
      "{'input': 'filled dispute charge debit card auto repair chase bank chase gave provisional credit day chase deducted account said owe chase bank mechanic replaced break turn messed rack pinion pay chase bank unlawful charge chase bank need investigated'}\n",
      "{'input': 'credit card fraudulently opened name chase bank need account deleted removed credit file'}\n",
      "{'input': 'time respectfully request copy equifax credit report dont know written request ignored would greatly appreciated credit reporting agency mail copy credit report ny professional cooperation greatly appreciated'}\n",
      "{'input': 'harrassed elderly parent refused provide proof debt owed refused identify reason call contacted email sent letter cease contact refused dispute debt'}\n",
      "{'input': 'bank closed acct per letter week ago sign call wait time horrific never received fund acct today written letter close send fund'}\n",
      "{'input': 'case number need reopen dispute got cancellation proof look attachment cancel service contacted refund lady agent could find payment system asked send payment statement payment billed card told would send supervisor team review one emailed called back yet'}\n",
      "{'input': 'code permissible purpose consumer report subject subsection c consumer reporting agency may furnish consumer report following circumstance accordance written instruction consumer relates delete account immediately consumer report give written permissible'}\n",
      "{'input': 'credit card closed bank warrant reciprocated every time call live chat got run around balance received monthly maintenance fee'}\n",
      "{'input': 'credit card opened name authorize'}\n",
      "{'input': 'receiving current copy credit report discovered entry idenitified inquiry qualified deletion report'}\n",
      "{'input': 'card fraudulent charge yet update fraudulent charge removed account balance due'}\n",
      "{'input': 'account belong'}\n",
      "{'input': 'transunion continue refresh outdated account old account violates fdcpa fcba cra vilates section account'}\n",
      "{'input': 'debt collector trying collect debt owed victim identity theft several account opened name social hard road get fixed giving hard time assume think fraud assume see credit whoever opened account made payment stopped guess may consider fraud'}\n",
      "{'input': 'doctor office sent blood work wrong lab told several time insurance changed doctor mistake mine collection account past due status updated radius global solution llcxxxx account number'}\n",
      "{'input': 'receiving current copy credit report discovered entry identified inquiry qualified deletion report'}\n",
      "{'input': 'year ago fico score plummeted point checked credit report found acct opened fraudulently name contacted credit bureau investigation removed report year later fraudulent acct appears credit report time collection agency balance'}\n",
      "{'input': 'carefully reviewing credit report found account belong time writing disputing inaccurate account hindering better life date'}\n",
      "{'input': 'deposit friend check account bank cash check give friend money say owe money back bank said way cash check clear guess cleared want give money back bank sent letter said took care problem put credit report'}\n",
      "{'input': 'first credit gym membership cancelled due sickness told account would closed charge close account placed collection called try many time removed credit report'}\n",
      "{'input': 'call transunion bout inquiry report didnt authorize car dealership gave inquiry didnt need vechile try resolve tell fraud several inquiry also'}\n",
      "{'input': 'card charged without knowledge transaction authorize transaction total come month total transaction help cancelling card tried calling help provided making police report well reliacard u bank helpful filing dispute way online put hold two hour help'}\n",
      "{'input': 'receiving current copy credit report discovered entry identified inquiry qualified deletion report'}\n",
      "{'input': 'account number credit card end paid balance reflecting incorrect balance credit report'}\n",
      "{'input': 'move layed due covid unaware charge added credit report tried work way pay adhere resolution offered'}\n",
      "{'input': 'victim identity theft debt belong please see identity theft report legal affidavit attached'}\n",
      "{'input': 'negative remark placed credit card account amount dispute never late account bank america paid everything time know negative remark placed account boa offer payment deferral request due covid pandemic signed pursue'}\n",
      "{'input': 'collection prof entered collection name year behalf however never seen medical center dependent reason believe fraud would like removed credit report immediately please collection professional il'}\n",
      "{'input': 'hello bank took fund ask copy transaction since open account'}\n",
      "{'input': 'amidst worldwide crisis facing going pandemic carrying away livelihood job affected still important good positive remark report contacted creditor failed provide necessary document prove account debt belongs resulted loss credit rating'}\n",
      "{'input': 'axos bank charged nearly year interest year cd month left full maturity axos bank kicked teeth needed money due family emergency global pandemic loyal customer multiple cd year span still severely punished cruel heartless axos bank'}\n",
      "{'input': 'durango credit collection attempting collect debt located colorado patient refuse remove debt collection account well credit bureau account debt never patient clinic'}\n",
      "{'input': 'waiting account credited bonus supposed receive meeting new account requirement called check holding ten min transferred hung'}\n"
     ]
    }
   ],
   "source": [
    "#learning_rate=0.3\n",
    "\n",
    "from multiprocessing.pool import ThreadPool\n",
    "from time import sleep\n",
    "from random import randint\n",
    "\n",
    "max_examples=200\n",
    "inputs=inputs_test[:max_examples]\n",
    "#inputs=inputs_test[0]\n",
    "y_test=y_test[:max_examples]\n",
    "\n",
    "results_zs = []\n",
    "asscoiated_test_value= []\n",
    "parameters = {\n",
    "                     \"decoding_method\": \"greedy\",\n",
    "                     \"min_new_tokens\": 1,\n",
    "                     \"max_new_tokens\": 1024,\n",
    "                     \"stop_sequences\": [\n",
    "                     \"Input:\",\n",
    "                     \"\\n\\n\\n\"\n",
    "                     ]\n",
    "                }\n",
    "\n",
    "credentials = {\n",
    "    \"url\": \"https://us-south.ml.cloud.ibm.com\",\n",
    "    \"apikey\": \"YOUR_API_KEY\"\n",
    "}\n",
    "project_id=\"YOUR_PROJECT_ID\"\n",
    "\n",
    "\n",
    "\n",
    "\n",
    "def dosomething(test, y_test):\n",
    "    sleep(5)\n",
    "    results_zs.append(tuned_model.generate(instruction.format(sentence =test['input'])))\n",
    "    asscoiated_test_value.append(y_test)\n",
    "    print(test)\n",
    "\n",
    "\n",
    "with ThreadPool(processes=5) as pool:\n",
    "    pool.starmap(dosomething, zip(inputs,y_test))\n",
    "\n"
   ]
  },
  {
   "cell_type": "code",
   "execution_count": 28,
   "metadata": {},
   "outputs": [
    {
     "name": "stdout",
     "output_type": "stream",
     "text": [
      "['credit_reporting', 'retail_banking', 'credit_reporting', 'credit_card', 'credit_reporting', 'retail_banking', 'credit_card', 'credit_reporting', 'credit_reporting', 'mortgages_and_loans', 'debt_collection', 'credit_reporting', 'credit_reporting', 'credit_card', 'credit_reporting', 'credit_reporting', 'credit_reporting', 'credit_card', 'credit_card', 'mortgages_and_loans', 'debt_collection', 'retail_banking', 'credit_reporting', 'credit_reporting', 'retail_banking', 'credit_reporting', 'retail_banking', 'credit_reporting', 'mortgages_and_loans', 'credit_reporting', 'retail_banking', 'retail_banking', 'debt_collection', 'credit_reporting', 'credit_reporting', 'credit_reporting', 'credit_reporting', 'mortgages_and_loans', 'retail_banking', 'credit_reporting', 'debt_collection', 'credit_card', 'credit_card', 'retail_banking', 'credit_reporting', 'credit_reporting', 'retail_banking', 'debt_collection', 'credit_card', 'retail_banking', 'retail_banking', 'credit_reporting', 'debt_collection', 'credit_reporting', 'credit_reporting', 'retail_banking', 'debt_collection', 'retail_banking', 'credit_reporting', 'credit_reporting', 'credit_reporting', 'retail_banking', 'credit_card', 'credit_reporting', 'retail_banking', 'credit_reporting', 'credit_reporting', 'credit_reporting', 'credit_reporting', 'credit_reporting', 'retail_banking', 'credit_card', 'credit_reporting', 'credit_reporting', 'credit_reporting', 'credit_reporting', 'retail_banking', 'credit_reporting', 'credit_reporting', 'retail_banking', 'credit_reporting', 'credit_reporting', 'debt_collection', 'credit_reporting', 'credit_reporting', 'credit_reporting', 'credit_card', 'credit_reporting', 'retail_banking', 'credit_reporting', 'debt_collection', 'credit_card', 'mortgages_and_loans', 'credit_reporting', 'credit_reporting', 'mortgages_and_loans', 'retail_banking', 'credit_card', 'retail_banking', 'retail_banking', 'credit_reporting', 'credit_reporting', 'credit_reporting', 'mortgages_and_loans', 'mortgages_and_loans', 'retail_banking', 'credit_card', 'credit_reporting', 'retail_banking', 'retail_banking', 'credit_reporting', 'credit_reporting', 'credit_card', 'retail_banking', 'credit_reporting', 'mortgages_and_loans', 'retail_banking', 'credit_card', 'credit_reporting', 'credit_card', 'credit_reporting', 'retail_banking', 'credit_reporting', 'debt_collection', 'retail_banking', 'mortgages_and_loans', 'credit_reporting', 'credit_reporting', 'credit_reporting', 'credit_reporting', 'debt_collection', 'retail_banking', 'retail_banking', 'credit_reporting', 'retail_banking', 'credit_card', 'debt_collection', 'retail_banking', 'credit_card', 'retail_banking', 'credit_reporting', 'credit_reporting', 'credit_reporting', 'credit_card', 'credit_reporting', 'retail_banking', 'credit_reporting', 'retail_banking', 'credit_reporting', 'credit_reporting', 'credit_reporting', 'retail_banking', 'retail_banking', 'debt_collection', 'credit_reporting', 'credit_reporting', 'credit_reporting', 'retail_banking', 'credit_reporting', 'credit_card', 'retail_banking', 'credit_reporting', 'credit_reporting', 'retail_banking', 'mortgages_and_loans', 'retail_banking', 'credit_reporting', 'credit_card', 'credit_card', 'credit_reporting', 'debt_collection', 'retail_banking', 'credit_card', 'credit_reporting', 'retail_banking', 'credit_card', 'credit_reporting', 'credit_card', 'retail_banking', 'credit_reporting', 'debt_collection', 'debt_collection', 'credit_reporting', 'credit_reporting', 'credit_reporting', 'retail_banking', 'credit_reporting', 'credit_reporting', 'credit_card', 'credit_reporting', 'credit_card', 'credit_reporting', 'credit_reporting', 'credit_card', 'credit_reporting', 'retail_banking', 'credit_reporting', 'retail_banking', 'debt_collection', 'retail_banking']\n"
     ]
    }
   ],
   "source": [
    "y_pred_pt_03 = []\n",
    "for i in range(len(results_zs)):\n",
    "    x = results_zs[i]['results'][0]['generated_text']\n",
    "    \n",
    "    y_pred_pt_03.append(x)\n",
    "\n",
    "print(y_pred_pt_03)"
   ]
  },
  {
   "cell_type": "code",
   "execution_count": 29,
   "metadata": {},
   "outputs": [
    {
     "data": {
      "text/plain": [
       "['debt_collection',\n",
       " 'retail_banking',\n",
       " 'mortgages_and_loans',\n",
       " 'credit_card',\n",
       " 'credit_reporting',\n",
       " 'retail_banking',\n",
       " 'credit_card',\n",
       " 'credit_reporting',\n",
       " 'credit_reporting',\n",
       " 'mortgages_and_loans',\n",
       " 'debt_collection',\n",
       " 'credit_reporting',\n",
       " 'debt_collection',\n",
       " 'credit_reporting',\n",
       " 'credit_reporting',\n",
       " 'debt_collection',\n",
       " 'debt_collection',\n",
       " 'credit_card',\n",
       " 'credit_card',\n",
       " 'mortgages_and_loans',\n",
       " 'debt_collection',\n",
       " 'retail_banking',\n",
       " 'debt_collection',\n",
       " 'credit_card',\n",
       " 'credit_reporting',\n",
       " 'credit_reporting',\n",
       " 'retail_banking',\n",
       " 'credit_reporting',\n",
       " 'mortgages_and_loans',\n",
       " 'debt_collection',\n",
       " 'retail_banking',\n",
       " 'retail_banking',\n",
       " 'debt_collection',\n",
       " 'credit_card',\n",
       " 'credit_reporting',\n",
       " 'credit_reporting',\n",
       " 'credit_reporting',\n",
       " 'mortgages_and_loans',\n",
       " 'retail_banking',\n",
       " 'debt_collection',\n",
       " 'debt_collection',\n",
       " 'credit_card',\n",
       " 'credit_card',\n",
       " 'mortgages_and_loans',\n",
       " 'credit_reporting',\n",
       " 'mortgages_and_loans',\n",
       " 'retail_banking',\n",
       " 'debt_collection',\n",
       " 'mortgages_and_loans',\n",
       " 'credit_reporting',\n",
       " 'credit_reporting',\n",
       " 'debt_collection',\n",
       " 'debt_collection',\n",
       " 'mortgages_and_loans',\n",
       " 'debt_collection',\n",
       " 'retail_banking',\n",
       " 'mortgages_and_loans',\n",
       " 'retail_banking',\n",
       " 'credit_reporting',\n",
       " 'debt_collection',\n",
       " 'credit_reporting',\n",
       " 'retail_banking',\n",
       " 'credit_card',\n",
       " 'debt_collection',\n",
       " 'retail_banking',\n",
       " 'debt_collection',\n",
       " 'debt_collection',\n",
       " 'debt_collection',\n",
       " 'credit_reporting',\n",
       " 'debt_collection',\n",
       " 'debt_collection',\n",
       " 'credit_card',\n",
       " 'credit_card',\n",
       " 'credit_reporting',\n",
       " 'credit_reporting',\n",
       " 'credit_card',\n",
       " 'debt_collection',\n",
       " 'debt_collection',\n",
       " 'debt_collection',\n",
       " 'credit_reporting',\n",
       " 'debt_collection',\n",
       " 'debt_collection',\n",
       " 'debt_collection',\n",
       " 'debt_collection',\n",
       " 'credit_reporting',\n",
       " 'debt_collection',\n",
       " 'credit_card',\n",
       " 'mortgages_and_loans',\n",
       " 'retail_banking',\n",
       " 'debt_collection',\n",
       " 'mortgages_and_loans',\n",
       " 'credit_card',\n",
       " 'mortgages_and_loans',\n",
       " 'debt_collection',\n",
       " 'credit_reporting',\n",
       " 'mortgages_and_loans',\n",
       " 'retail_banking',\n",
       " 'credit_card',\n",
       " 'credit_reporting',\n",
       " 'credit_card',\n",
       " 'credit_reporting',\n",
       " 'credit_reporting',\n",
       " 'credit_reporting',\n",
       " 'mortgages_and_loans',\n",
       " 'mortgages_and_loans',\n",
       " 'debt_collection',\n",
       " 'credit_card',\n",
       " 'credit_reporting',\n",
       " 'credit_card',\n",
       " 'retail_banking',\n",
       " 'credit_reporting',\n",
       " 'credit_reporting',\n",
       " 'credit_card',\n",
       " 'retail_banking',\n",
       " 'debt_collection',\n",
       " 'mortgages_and_loans',\n",
       " 'retail_banking',\n",
       " 'credit_card',\n",
       " 'credit_card',\n",
       " 'credit_card',\n",
       " 'credit_reporting',\n",
       " 'retail_banking',\n",
       " 'credit_reporting',\n",
       " 'debt_collection',\n",
       " 'retail_banking',\n",
       " 'mortgages_and_loans',\n",
       " 'debt_collection',\n",
       " 'debt_collection',\n",
       " 'retail_banking',\n",
       " 'credit_reporting',\n",
       " 'debt_collection',\n",
       " 'retail_banking',\n",
       " 'debt_collection',\n",
       " 'debt_collection',\n",
       " 'retail_banking',\n",
       " 'credit_card',\n",
       " 'mortgages_and_loans',\n",
       " 'retail_banking',\n",
       " 'credit_card',\n",
       " 'mortgages_and_loans',\n",
       " 'credit_reporting',\n",
       " 'debt_collection',\n",
       " 'credit_reporting',\n",
       " 'credit_card',\n",
       " 'credit_reporting',\n",
       " 'credit_card',\n",
       " 'credit_reporting',\n",
       " 'retail_banking',\n",
       " 'credit_reporting',\n",
       " 'credit_reporting',\n",
       " 'debt_collection',\n",
       " 'retail_banking',\n",
       " 'credit_card',\n",
       " 'debt_collection',\n",
       " 'debt_collection',\n",
       " 'credit_reporting',\n",
       " 'debt_collection',\n",
       " 'retail_banking',\n",
       " 'debt_collection',\n",
       " 'credit_card',\n",
       " 'debt_collection',\n",
       " 'credit_reporting',\n",
       " 'credit_reporting',\n",
       " 'retail_banking',\n",
       " 'mortgages_and_loans',\n",
       " 'retail_banking',\n",
       " 'credit_reporting',\n",
       " 'retail_banking',\n",
       " 'credit_reporting',\n",
       " 'credit_reporting',\n",
       " 'debt_collection',\n",
       " 'retail_banking',\n",
       " 'credit_card',\n",
       " 'debt_collection',\n",
       " 'retail_banking',\n",
       " 'credit_reporting',\n",
       " 'credit_reporting',\n",
       " 'credit_card',\n",
       " 'credit_reporting',\n",
       " 'credit_reporting',\n",
       " 'debt_collection',\n",
       " 'debt_collection',\n",
       " 'credit_reporting',\n",
       " 'debt_collection',\n",
       " 'credit_reporting',\n",
       " 'retail_banking',\n",
       " 'debt_collection',\n",
       " 'credit_reporting',\n",
       " 'credit_card',\n",
       " 'credit_reporting',\n",
       " 'credit_reporting',\n",
       " 'debt_collection',\n",
       " 'debt_collection',\n",
       " 'credit_reporting',\n",
       " 'debt_collection',\n",
       " 'retail_banking',\n",
       " 'credit_reporting',\n",
       " 'retail_banking',\n",
       " 'debt_collection',\n",
       " 'retail_banking']"
      ]
     },
     "execution_count": 29,
     "metadata": {},
     "output_type": "execute_result"
    }
   ],
   "source": [
    "asscoiated_test_value"
   ]
  },
  {
   "cell_type": "code",
   "execution_count": 30,
   "metadata": {},
   "outputs": [
    {
     "name": "stdout",
     "output_type": "stream",
     "text": [
      "0.625\n"
     ]
    }
   ],
   "source": [
    "\n",
    "\n",
    "print(accuracy_score(y_pred_pt_03, asscoiated_test_value))"
   ]
  },
  {
   "cell_type": "code",
   "execution_count": 31,
   "metadata": {},
   "outputs": [
    {
     "name": "stdout",
     "output_type": "stream",
     "text": [
      "                     precision    recall  f1-score   support\n",
      "\n",
      "        credit_card       0.76      0.71      0.73        31\n",
      "   credit_reporting       0.48      0.80      0.60        56\n",
      "    debt_collection       0.82      0.25      0.38        57\n",
      "mortgages_and_loans       1.00      0.52      0.69        21\n",
      "     retail_banking       0.66      0.94      0.78        35\n",
      "\n",
      "           accuracy                           0.62       200\n",
      "          macro avg       0.75      0.65      0.64       200\n",
      "       weighted avg       0.71      0.62      0.60       200\n",
      "\n"
     ]
    }
   ],
   "source": [
    "classes = ['credit_card', 'debt_collection','mortgages_and_loans','retail_banking', 'credit_reporting']\n",
    "print(classification_report(asscoiated_test_value, y_pred_pt_03) )"
   ]
  },
  {
   "cell_type": "markdown",
   "metadata": {},
   "source": [
    "### 4. Compare results after Prompt Tuning"
   ]
  },
  {
   "cell_type": "markdown",
   "metadata": {},
   "source": [
    "### Zero Shots"
   ]
  },
  {
   "cell_type": "code",
   "execution_count": 32,
   "metadata": {},
   "outputs": [
    {
     "data": {
      "image/png": "[encoded data removed]",
      "text/plain": [
       "<Figure size 640x480 with 2 Axes>"
      ]
     },
     "metadata": {},
     "output_type": "display_data"
    }
   ],
   "source": [
    "import matplotlib.pyplot as plt\n",
    "import numpy\n",
    "from sklearn import metrics\n",
    "\n",
    "confusion_matrix = metrics.confusion_matrix(y_test[:max_examples], y_pred_zs)\n",
    "\n",
    "cm_display = metrics.ConfusionMatrixDisplay(confusion_matrix = confusion_matrix, display_labels = ['credit_card', 'debt_collection','mortgages_and_loans','retail_banking', 'credit_reporting'])\n",
    "\n",
    "cm_display.plot(xticks_rotation='vertical')\n",
    "plt.show()\n"
   ]
  },
  {
   "cell_type": "markdown",
   "metadata": {},
   "source": [
    "### Using Prompt Tuning with Learning Rate = 0.3"
   ]
  },
  {
   "cell_type": "code",
   "execution_count": 33,
   "metadata": {},
   "outputs": [
    {
     "data": {
      "image/png": "[encoded data removed]",
      "text/plain": [
       "<Figure size 640x480 with 2 Axes>"
      ]
     },
     "metadata": {},
     "output_type": "display_data"
    }
   ],
   "source": [
    "\n",
    "confusion_matrix = metrics.confusion_matrix(y_test[:max_examples], y_pred_pt_03)\n",
    "\n",
    "cm_display = metrics.ConfusionMatrixDisplay(confusion_matrix = confusion_matrix, display_labels = ['credit_card', 'debt_collection','mortgages_and_loans','retail_banking', 'credit_reporting'])\n",
    "\n",
    "cm_display.plot(xticks_rotation='vertical')\n",
    "plt.show()\n"
   ]
  }
 ],
 "metadata": {
  "kernelspec": {
   "display_name": ".venv",
   "language": "python",
   "name": "python3"
  },
  "language_info": {
   "codemirror_mode": {
    "name": "ipython",
    "version": 3
   },
   "file_extension": ".py",
   "mimetype": "text/x-python",
   "name": "python",
   "nbconvert_exporter": "python",
   "pygments_lexer": "ipython3",
   "version": "3.12.3"
  },
  "orig_nbformat": 4
 },
 "nbformat": 4,
 "nbformat_minor": 2
}
