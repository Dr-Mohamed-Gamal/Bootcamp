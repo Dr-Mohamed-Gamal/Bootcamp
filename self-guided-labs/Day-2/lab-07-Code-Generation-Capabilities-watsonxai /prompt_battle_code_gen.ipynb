{
 "cells": [
  {
   "cell_type": "markdown",
   "id": "1bbd6130-c496-41ff-8a2a-2d8ed64bf504",
   "metadata": {},
   "source": [
    "# Prompt Battle - Code generation\n",
    "\n",
    "Welcome to the Prompt Battle Challenge of the **Watson<span style=\"color:blue\">x</span>** bootcamp!\n",
    "\n",
    "In this exercice, you will apply your knowledge of generative AI and prompt engineering to compete against each other. \n",
    "You will have to use the **StarCoder** model as a coding assistant to generate the best piece of code."
   ]
  },
  {
   "cell_type": "markdown",
   "id": "7b64d5d2-f574-4686-985f-1d55e27db18a",
   "metadata": {},
   "source": [
    "<br/>\n",
    "\n",
    "## Imports"
   ]
  },
  {
   "cell_type": "code",
   "execution_count": 1,
   "id": "45fb4eb4-ec0e-43e0-a3c8-b19d39d58f95",
   "metadata": {},
   "outputs": [
    {
     "name": "stdout",
     "output_type": "stream",
     "text": [
      "Requirement already satisfied: pillow in /Users/mohamedgamal/anaconda3/lib/python3.11/site-packages (9.4.0)\n",
      "\u001b[33mDEPRECATION: textract 1.6.5 has a non-standard dependency specifier extract-msg<=0.29.*. pip 23.3 will enforce this behaviour change. A possible replacement is to upgrade to a newer version of textract or contact the author to suggest that they release a version with a conforming dependency specifiers. Discussion can be found at https://github.com/pypa/pip/issues/12063\u001b[0m\u001b[33m\n",
      "\u001b[0m"
     ]
    }
   ],
   "source": [
    "#Pillow: The Python Imaging Library adds image processing capabilities to your Python interpreter.\n",
    "!pip install pillow\n"
   ]
  },
  {
   "cell_type": "markdown",
   "id": "40f23986-a02c-4d35-828f-0496bf57a06e",
   "metadata": {},
   "source": [
    "<br/>\n",
    "\n",
    "## 1 - The StarCoder model\n",
    "\n",
    "**StarCoder** model is a 15.5B parameter code generation model from BigCode. It was trained on 80+ coding languages and fine-tuned for Python code. Click [here](https://huggingface.co/bigcode/starcoder) for more information on the model."
   ]
  },
  {
   "cell_type": "markdown",
   "id": "4c7101e3-41b3-4643-ae72-28cae5ecba7e",
   "metadata": {},
   "source": [
    "Follow the instructions to access the **StarCoder** model in **Watson<span style=\"color:blue\">x</span>**:\n",
    "\n",
    "1. Access the bootcamp **Watson<span style=\"color:blue\">x</span>** [environment](https://dataplatform.cloud.ibm.com/projects/?context=wx).\n",
    "\n",
    "2. Create a new prompt lab instance and select the **StarCoder** model."
   ]
  },
  {
   "cell_type": "markdown",
   "id": "cd723b95-36c4-4759-b179-6ddca10d7d2f",
   "metadata": {},
   "source": [
    "<br/>\n",
    "\n",
    "## 2 - Prompt tuning the model as a coding assistant"
   ]
  },
  {
   "cell_type": "markdown",
   "id": "57f34b54-9af0-4448-85b9-4507000572b0",
   "metadata": {},
   "source": [
    "**StarCoder** is meant to be used as a code completion model, taking some code as an input and generating the missing code as the output.\n",
    "Instead, we want to use the model as a coding assistant, sending instructions in plain English for the model to generate the requested code. \n",
    "\n",
    "To do so, we will **prompt tune** the model to behave as a coding assistant. More specifically, we will use the method of **few-shots prompting** to give the model some examples of coding assistant conversations."
   ]
  },
  {
   "cell_type": "markdown",
   "id": "71fec354-4579-445b-afd9-ebdf492f2d68",
   "metadata": {},
   "source": [
    "Follow the instructions to prompt tune **StarCoder** into a coding assistant:\n",
    "1. In the of the **prompt lab**, select ***Freeform*** at the top and copy-paste this coding assistant few-shots prompt from [here](https://github.ibm.com/theo-reignier-ibm/starcoder-starter-kit/blob/main/resources/TA_prompt_v1.txt).\n",
    "\n",
    "2. Increase the ***Max tokens*** parameter to `500` and add the following ***Stop sequences***. This will make sure the model only generates the response from the assistant, and does not generate the rest of the conversation.\n",
    "    - `Human:`\n",
    "    - `Assistant:`\n",
    "    - `--------------------`\n",
    "  \n",
    "You can now prompt your coding assistant by adding the following format at the bottom of the prompt:"
   ]
  },
  {
   "cell_type": "markdown",
   "id": "8e41792a-5536-4a87-9738-fab6ac5048fa",
   "metadata": {},
   "source": [
    "```\n",
    "Human: <QUESTION>\n",
    "\n",
    "Assistant:\n",
    "```"
   ]
  },
  {
   "cell_type": "markdown",
   "id": "a3ddc4df-fb29-42cd-bb29-d5b4949d90dc",
   "metadata": {},
   "source": [
    "**Example prompt:**"
   ]
  },
  {
   "cell_type": "markdown",
   "id": "77a5c25a-3cba-4e8b-8d47-0e115df84ddc",
   "metadata": {},
   "source": [
    "```\n",
    "<FEW-SHOTS PROMPT>      # paste the code you got from github file above in step 1\n",
    "\n",
    "Human: Write a Flask python code for a rest API that returns the current timestamp.\n",
    "\n",
    "Assistant:\n",
    "```"
   ]
  },
  {
   "cell_type": "markdown",
   "id": "33f88e40-60e2-4426-8ef2-573b89d1125e",
   "metadata": {},
   "source": [
    "<br/>\n",
    "\n",
    "## 3 - The Challenge\n",
    "\n",
    "For the **Prompt Battle Challenge**, you will have to prompt the model to generate a Python code that creates a **2D image of the French flag**. Follow the instructions to get started:\n",
    "\n",
    "1. In the of the **prompt lab**, starting from the coding assistant few-shots prompt described above, add this first prompt at the bottom:"
   ]
  },
  {
   "cell_type": "markdown",
   "id": "5e646957-493a-413b-9f6c-5aa12ee67baf",
   "metadata": {},
   "source": [
    "```\n",
    "<FEW-SHOTS PROMPT>\n",
    "\n",
    "Human: Write a python program to make a white 750x500 image called image.png\n",
    "\n",
    "Assistant:\n",
    "```"
   ]
  },
  {
   "cell_type": "markdown",
   "id": "9f924a98-26d0-4398-aa77-550443165dba",
   "metadata": {},
   "source": [
    "2. Press ***Generate***, copy the generated code in the cell below and run it to visualise your result. That will be your **starting point** !\n",
    "\n",
    "3. You can now prompt your coding assistant to **edit the code** until it displays a **French flag**. You are not allowed to edit the code yourself, you can only execute code generated by the model!"
   ]
  },
  {
   "cell_type": "markdown",
   "id": "414ac9d8-c3a1-43c0-af46-f4158d902e16",
   "metadata": {},
   "source": [
    "**Example:**"
   ]
  },
  {
   "cell_type": "markdown",
   "id": "c22cb2aa-814b-4f57-9a8c-4f3f72edfbc4",
   "metadata": {},
   "source": [
    "```\n",
    "<FEW-SHOTS PROMPT>\n",
    "\n",
    "Human: Write a python program to make a white 750x500 image with a green circle called image.png\n",
    "\n",
    "Assistant:\n",
    "```"
   ]
  },
  {
   "cell_type": "markdown",
   "id": "e6d251ca-cc12-4e43-b306-05d0acb7e04f",
   "metadata": {},
   "source": [
    "<br> \n",
    "<br>\n",
    "\n",
    "----------------- YOUR CODE HERE -----------------"
   ]
  },
  {
   "cell_type": "code",
   "execution_count": null,
   "id": "61060c0b-beed-4f2b-8810-15687259e92c",
   "metadata": {},
   "outputs": [],
   "source": [
    "# Placeholder example\n",
    "\n",
    "#from PIL import Image, ImageDraw\n",
    "\n",
    "#image = Image.new(\"RGB\", (750, 500), \"white\")\n",
    "#draw = ImageDraw.Draw(image)\n",
    "#draw.ellipse((250, 250, 500, 500), fill=\"green\")\n",
    "#image.save(\"image.png\")"
   ]
  },
  {
   "cell_type": "code",
   "execution_count": 42,
   "id": "080e82b7",
   "metadata": {},
   "outputs": [],
   "source": [
    "# PUT YOUR GENERATED CODE HERE.. THE USE THE BELOW CELL TO OPEN THE GENERATED IMAGE \n",
    "\n",
    "from PIL import Image, ImageDraw\n",
    "\n",
    "image = Image.new('RGB', (750, 500), (255, 255, 255))\n",
    "draw = ImageDraw.Draw(image)\n",
    "draw.ellipse((250, 250, 500, 500), fill=(0, 255, 0))\n",
    "image.save('image.png')\n"
   ]
  },
  {
   "cell_type": "markdown",
   "id": "fe484c0a-b9f0-4b51-82b6-dc472adb8caa",
   "metadata": {},
   "source": [
    "<br>\n",
    "<br>\n",
    "\n",
    "----------------- RUN THIS CELL -----------------"
   ]
  },
  {
   "cell_type": "code",
   "execution_count": 43,
   "id": "d9f1a7ce-83c7-4de1-9a6f-cde70e9abdcd",
   "metadata": {},
   "outputs": [
    {
     "data": {
      "image/png": "[encoded data removed]",
      "text/plain": [
       "<PIL.PngImagePlugin.PngImageFile image mode=RGB size=754x504>"
      ]
     },
     "metadata": {},
     "output_type": "display_data"
    }
   ],
   "source": [
    "# Run this cell for testing the code\n",
    "\n",
    "from PIL import Image, ImageOps\n",
    "ImageOps.expand(Image.open('image.png'),border=2,fill='black').save('image.png')\n",
    "pil_im = Image.open('image.png')\n",
    "display(pil_im)"
   ]
  },
  {
   "cell_type": "markdown",
   "id": "ae01907d-cd05-4a4c-929c-6c11ede9efaf",
   "metadata": {},
   "source": [
    "<br>\n",
    "<br>\n",
    "\n",
    "#### At the end of the challenge, take a screenshot and share your result in the Slack channel!"
   ]
  }
 ],
 "metadata": {
  "kernelspec": {
   "display_name": "base",
   "language": "python",
   "name": "python3"
  },
  "language_info": {
   "codemirror_mode": {
    "name": "ipython",
    "version": 3
   },
   "file_extension": ".py",
   "mimetype": "text/x-python",
   "name": "python",
   "nbconvert_exporter": "python",
   "pygments_lexer": "ipython3",
   "version": "3.11.4"
  }
 },
 "nbformat": 4,
 "nbformat_minor": 5
}
