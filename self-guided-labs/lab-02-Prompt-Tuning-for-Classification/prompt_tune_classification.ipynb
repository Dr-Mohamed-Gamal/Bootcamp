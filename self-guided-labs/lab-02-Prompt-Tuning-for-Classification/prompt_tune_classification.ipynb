{
 "cells": [
  {
   "cell_type": "markdown",
   "metadata": {
    "pycharm": {
     "name": "#%% md\n"
    }
   },
   "source": [
    "![image](https://raw.githubusercontent.com/IBM/watson-machine-learning-samples/master/cloud/notebooks/headers/watsonx-Prompt_Lab-Notebook.png)\n",
    "# Use watsonx to tune Meta `llama-2-13b-chat` model with Consumer Financial Protection Bureau document"
   ]
  },
  {
   "cell_type": "markdown",
   "metadata": {
    "pycharm": {
     "name": "#%% md\n"
    }
   },
   "source": [
    "#### Disclaimers\n",
    "\n",
    "- Use only Projects and Spaces that are available in watsonx context.\n",
    "\n",
    "\n",
    "## Notebook content\n",
    "\n",
    "This notebook contains the steps and code to demonstrate support of prompt tuning in watsonx.\n",
    "\n",
    "Some familiarity with Python is helpful. This notebook uses Python 3.10.\n",
    "\n",
    "\n",
    "## Learning goal\n",
    "\n",
    "The goal of this notebook is to demonstrate how to:\n",
    "- upload of dataset with prompts to container (project)\n",
    "- finding best tuning parameters (hyper-parameters optimization)\n",
    "- trigger prompt tuning process\n",
    "- review of prompt tuning process details/results\n",
    "- deploy prompt-tuned model/asset\n",
    "- evaluation (via inference) of prompt-tuned model/asset\n",
    "\n",
    "\n",
    "## Contents\n",
    "\n",
    "This notebook contains the following parts:\n",
    "\n",
    "- [Setup](#setup)\n",
    "- [Data loading](#data_loading)\n",
    "- [Initialize experiment](#initialize)\n",
    "- [Hyper-parameters optimization](#hpo)\n",
    "- [Run Prompt Tuning](#run_tuning)\n",
    "- [Prompt Tuning details](#run_details)\n",
    "- [Deploy](#deploy)\n",
    "- [Foundation Models Inference](#models_inference)\n",
    "- [Analyze the satisfaction](#predict)\n",
    "- [Summary and next steps](#summary)"
   ]
  },
  {
   "cell_type": "markdown",
   "metadata": {
    "pycharm": {
     "name": "#%% md\n"
    }
   },
   "source": [
    "<a id=\"setup\"></a>\n",
    "## Set up the environment\n",
    "\n",
    "Before you use the sample code in this notebook, you must perform the following setup tasks:\n",
    "\n",
    "-  Create a <a href=\"https://cloud.ibm.com/catalog/services/watson-machine-learning\" target=\"_blank\" rel=\"noopener no referrer\">Watson Machine Learning (WML) Service</a> instance (a free plan is offered and information about how to create the instance can be found <a href=\"https://dataplatform.cloud.ibm.com/docs/content/wsj/getting-started/wml-plans.html?context=wx&audience=wdp\" target=\"_blank\" rel=\"noopener no referrer\">here</a>)."
   ]
  },
  {
   "cell_type": "markdown",
   "metadata": {
    "pycharm": {
     "name": "#%% md\n"
    }
   },
   "source": [
    "### Install and import the `datasets` and dependencies"
   ]
  },
  {
   "cell_type": "code",
   "execution_count": null,
   "metadata": {
    "pycharm": {
     "name": "#%%\n"
    }
   },
   "outputs": [],
   "source": [
    "!pip install ibm-watsonx-ai | tail -n 1\n",
    "!pip install scikit-learn | tail -n 1\n",
    "!pip install matplotlib | tail -n 1\n",
    "!pip install wget | tail -n 1\n",
    "!pip install scikit-optimize | tail -n 1"
   ]
  },
  {
   "cell_type": "markdown",
   "metadata": {
    "pycharm": {
     "name": "#%% md\n"
    }
   },
   "source": [
    "### Watsonx API connection\n",
    "This cell defines the credentials required to work with watsonx API for Foundation\n",
    "Model inferencing.\n",
    "\n",
    "**Action:** Provide the IBM Cloud user API key. For details, see <a href=\"https://cloud.ibm.com/docs/account?topic=account-userapikey&interface=ui\" target=\"_blank\" rel=\"noopener no referrer\">documentation</a>."
   ]
  },
  {
   "cell_type": "markdown",
   "metadata": {},
   "source": [
    "### Defining the project id\n",
    "The Foundation Model requires project id that provides the context for the call. We will obtain the id from the project in which this notebook runs. Otherwise, please provide the project id."
   ]
  },
  {
   "cell_type": "code",
   "execution_count": 1,
   "metadata": {
    "pycharm": {
     "name": "#%%\n"
    }
   },
   "outputs": [],
   "source": [
    "import os\n",
    "import getpass\n",
    "from dotenv import load_dotenv\n",
    "\n",
    "try:\n",
    "    load_dotenv()\n",
    "    api_key = os.getenv(\"API_KEY\")\n",
    "except Exception:\n",
    "    api_key = getpass.getpass(\"Please enter your api key (hit enter): \")\n",
    "ibm_cloud_url = \"https://us-south.ml.cloud.ibm.com\"\n",
    "project_id = os.getenv(\"PROJECT_ID\")\n",
    "\n",
    "if api_key is None or ibm_cloud_url is None or project_id is None:\n",
    "    raise Exception(\"Ensure you copied the .env file that you created earlier into the same directory as this notebook\")\n",
    "else:\n",
    "    creds = {\n",
    "        \"url\": ibm_cloud_url,\n",
    "        \"apikey\": api_key \n",
    "    }"
   ]
  },
  {
   "cell_type": "markdown",
   "metadata": {
    "pycharm": {
     "name": "#%% md\n"
    }
   },
   "source": [
    "Create an instance of APIClient with authentication details."
   ]
  },
  {
   "cell_type": "code",
   "execution_count": 2,
   "metadata": {
    "pycharm": {
     "name": "#%%\n"
    }
   },
   "outputs": [],
   "source": [
    "from ibm_watsonx_ai import APIClient\n",
    "\n",
    "client = APIClient(creds)"
   ]
  },
  {
   "cell_type": "markdown",
   "metadata": {
    "pycharm": {
     "name": "#%% md\n"
    }
   },
   "source": [
    "To be able to interact with all resources available in Watson Machine Learning, you need to set **project_id** which you will be using."
   ]
  },
  {
   "cell_type": "code",
   "execution_count": 3,
   "metadata": {
    "pycharm": {
     "name": "#%%\n"
    }
   },
   "outputs": [
    {
     "data": {
      "text/plain": [
       "'SUCCESS'"
      ]
     },
     "execution_count": 3,
     "metadata": {},
     "output_type": "execute_result"
    }
   ],
   "source": [
    "client.set.default_project(project_id)"
   ]
  },
  {
   "cell_type": "markdown",
   "metadata": {
    "pycharm": {
     "name": "#%% md\n"
    }
   },
   "source": [
    "<a id=\"data_loading\"></a>\n",
    "## Data loading"
   ]
  },
  {
   "cell_type": "markdown",
   "metadata": {
    "pycharm": {
     "name": "#%% md\n"
    }
   },
   "source": [
    "This example uses the Consumer Financial Protection Bureau training dataset. "
   ]
  },
  {
   "cell_type": "code",
   "execution_count": 4,
   "metadata": {
    "pycharm": {
     "name": "#%%\n"
    }
   },
   "outputs": [],
   "source": [
    "filename = 'cfpb_train.json'"
   ]
  },
  {
   "cell_type": "markdown",
   "metadata": {
    "pycharm": {
     "name": "#%% md\n"
    }
   },
   "source": [
    "Download training data from git repository and create data assets."
   ]
  },
  {
   "cell_type": "code",
   "execution_count": 5,
   "metadata": {
    "pycharm": {
     "is_executing": true,
     "name": "#%%\n"
    }
   },
   "outputs": [
    {
     "name": "stdout",
     "output_type": "stream",
     "text": [
      "Creating data asset...\n",
      "SUCCESS\n"
     ]
    }
   ],
   "source": [
    "import wget\n",
    "import os\n",
    "\n",
    "url = \"https://raw.github.com/IBM/watson-machine-learning-samples/master/cloud/data/prompt_tuning/cfpb_train.json\"\n",
    "if not os.path.isfile(filename): \n",
    "    wget.download(url)\n",
    "    \n",
    "asset_details = client.data_assets.create(name=filename, file_path=filename)\n",
    "asset_id = client.data_assets.get_id(asset_details)"
   ]
  },
  {
   "cell_type": "markdown",
   "metadata": {
    "pycharm": {
     "name": "#%% md\n"
    }
   },
   "source": [
    "Define connection information to training data."
   ]
  },
  {
   "cell_type": "code",
   "execution_count": 6,
   "metadata": {
    "pycharm": {
     "name": "#%%\n"
    }
   },
   "outputs": [],
   "source": [
    "from ibm_watsonx_ai.helpers import DataConnection\n",
    "\n",
    "data_conn = DataConnection(data_asset_id=asset_id)"
   ]
  },
  {
   "cell_type": "markdown",
   "metadata": {
    "pycharm": {
     "name": "#%% md\n"
    }
   },
   "source": [
    "<a id=\"initialize\"></a>\n",
    "## Initialize experiment"
   ]
  },
  {
   "cell_type": "code",
   "execution_count": 7,
   "metadata": {
    "collapsed": false,
    "pycharm": {
     "name": "#%%\n"
    }
   },
   "outputs": [],
   "source": [
    "from ibm_watsonx_ai.experiment import TuneExperiment\n",
    "\n",
    "experiment = TuneExperiment(creds, project_id=project_id)"
   ]
  },
  {
   "cell_type": "markdown",
   "metadata": {
    "collapsed": false,
    "pycharm": {
     "name": "#%% md\n"
    }
   },
   "source": [
    "All avaliable tasks are presented under `Tasks` Enum"
   ]
  },
  {
   "cell_type": "code",
   "execution_count": 8,
   "metadata": {
    "collapsed": false,
    "pycharm": {
     "name": "#%%\n"
    }
   },
   "outputs": [
    {
     "data": {
      "text/plain": [
       "{'QUESTION_ANSWERING': 'question_answering',\n",
       " 'SUMMARIZATION': 'summarization',\n",
       " 'RETRIEVAL_AUGMENTED_GENERATION': 'retrieval_augmented_generation',\n",
       " 'CLASSIFICATION': 'classification',\n",
       " 'GENERATION': 'generation',\n",
       " 'CODE_GENERATION_AND_CONVERSION': 'code',\n",
       " 'EXTRACTION': 'extraction',\n",
       " 'TRANSLATION': 'translation'}"
      ]
     },
     "execution_count": 8,
     "metadata": {},
     "output_type": "execute_result"
    }
   ],
   "source": [
    "{task.name: task.value for task in experiment.Tasks}"
   ]
  },
  {
   "cell_type": "markdown",
   "metadata": {
    "collapsed": false,
    "pycharm": {
     "name": "#%% md\n"
    }
   },
   "source": [
    "<a id=\"hpo\"></a>\n",
    "## Hyper-parameters optimization (optional, can take a while to complete!)\n",
    "\n",
    "The goal of hyper-parameters optimization is to find the best `learning_rate` value yielding the lowest loss. The search space can be extended to other parameters like `num_epochs` or `batch_size`.\n",
    "**Hint:** To execute the code change the cell type to Code and remove markdown marks. Note that HPO takes significant time and resources.\n"
   ]
  },
  {
   "cell_type": "markdown",
   "metadata": {
    "collapsed": false,
    "pycharm": {
     "name": "#%% md\n"
    }
   },
   "source": [
    "### Train function\n",
    "Let's define the `train_evaluate` function that will accepts set of parameters from SEARCH dict and return the loss value.\n",
    "In addition, we will measure the elapsed time. To speed up the HPO time we will use only 3 epochs."
   ]
  },
  {
   "cell_type": "code",
   "execution_count": null,
   "metadata": {},
   "outputs": [],
   "source": [
    "# client.foundation_models.get_model_specs(model_id=\"meta-llama/llama-2-13b-chat\")"
   ]
  },
  {
   "cell_type": "code",
   "execution_count": null,
   "metadata": {
    "collapsed": false,
    "pycharm": {
     "name": "#%% md\n"
    }
   },
   "outputs": [],
   "source": [
    "# import time\n",
    "\n",
    "# def train_evaluate(search_params):\n",
    "#     prompt_tuner = experiment.prompt_tuner(name=\"Prompt tuning with HPO - \" + str(search_params),\n",
    "#                                            base_model='meta-llama/llama-2-13b-chat',\n",
    "#                                            task_id=experiment.Tasks.CLASSIFICATION,\n",
    "#                                            tuning_type=experiment.PromptTuningTypes.PT,\n",
    "#                                            num_epochs=3,\n",
    "#                                            batch_size=8,\n",
    "#                                            max_input_tokens=256,\n",
    "#                                            max_output_tokens=20,\n",
    "#                                            verbalizer=\"Including narratives choice the best match product with the items from the list: 'credit_card', 'debt_collection', 'mortgages_and_loans', 'credit_reporting', 'retail_banking'. Input: {{input}} Output: \",\n",
    "#                                            auto_update_model=False,\n",
    "#                                            **search_params\n",
    "#                                            )\n",
    "\n",
    "#     tuning_details = prompt_tuner.run(training_data_references=[data_conn], background_mode=True)\n",
    "#     print(f\"Starting the tune...\")\n",
    "#     print(f\"hyper-parameters\", str(search_params))\n",
    "#     start = time.time()\n",
    "\n",
    "#     while prompt_tuner.get_run_status() not in ['failed', 'canceled', 'completed']:\n",
    "#         tuning_details = prompt_tuner.get_run_details()\n",
    "#         time.sleep(10)\n",
    "#     end = time.time() - start\n",
    "\n",
    "#     if prompt_tuner.get_run_status() in ['failed', 'canceled']:\n",
    "#         print(\"Model tuning failed or halted\")\n",
    "#         print(f\"get_run_details: {prompt_tuner.get_run_details()}\")\n",
    "#         return 10\n",
    "\n",
    "#     try:\n",
    "#        loss = prompt_tuner.summary().loss.values[0]\n",
    "#     except:\n",
    "#         loss = 10\n",
    "\n",
    "#     print(prompt_tuner.get_run_status(), 'loss: ',  loss, ' | run time', end)\n",
    "#     return loss"
   ]
  },
  {
   "cell_type": "markdown",
   "metadata": {
    "collapsed": false,
    "pycharm": {
     "name": "#%% md\n"
    }
   },
   "source": [
    "### Search space and optimization\n",
    "In next step let's define the search space for `learning_rate` and objective function."
   ]
  },
  {
   "cell_type": "code",
   "execution_count": null,
   "metadata": {
    "collapsed": false,
    "pycharm": {
     "name": "#%% md\n"
    }
   },
   "outputs": [],
   "source": [
    "# import skopt\n",
    "\n",
    "# SPACE = [\n",
    "#     skopt.space.Real(0.001, 0.005, name='learning_rate', prior='log-uniform')\n",
    "# ]\n",
    "\n",
    "# @skopt.utils.use_named_args(SPACE)\n",
    "# def objective(**params):\n",
    "#     return train_evaluate(params)\n",
    "\n",
    "# results = skopt.forest_minimize(objective, SPACE, n_calls=10)\n",
    "# best_loss = results.fun\n",
    "# best_params = results.x\n",
    "# # best_id = results.id\n",
    "\n",
    "# print('best result: ', best_loss)\n",
    "# print('best parameters: ', best_params)"
   ]
  },
  {
   "cell_type": "markdown",
   "metadata": {
    "collapsed": false,
    "pycharm": {
     "name": "#%% md\n"
    }
   },
   "source": [
    "<a id=\"run_tuning\"></a>\n",
    "## Run Prompt Tuning"
   ]
  },
  {
   "cell_type": "markdown",
   "metadata": {
    "collapsed": false,
    "pycharm": {
     "name": "#%% md\n"
    }
   },
   "source": [
    "Run a prompt tuning process of foundation model on top of the training data referenced by DataConnection (tuning may take some time)."
   ]
  },
  {
   "cell_type": "markdown",
   "metadata": {
    "collapsed": false,
    "pycharm": {
     "name": "#%% md\n"
    }
   },
   "source": [
    "Define `prompt_tuner` parameters. In the example below the `learning_rate` value was established using the HPO runs described above.\n",
    "\n",
    "**Action:** For parameters details, see <a href=\"https://ibm.github.io/watsonx-ai-python-sdk/tune_experiment.html#ibm_watsonx_ai.experiment.fm_tune.TuneExperiment.prompt_tuner\" target=\"_blank\" rel=\"noopener no referrer\">documentation</a>."
   ]
  },
  {
   "cell_type": "code",
   "execution_count": 9,
   "metadata": {
    "collapsed": false,
    "pycharm": {
     "name": "#%%\n"
    }
   },
   "outputs": [],
   "source": [
    "prompt_tuner = experiment.prompt_tuner(name=\"Llama-2-13b-chat prompt tuning - python SDK\",\n",
    "                                       task_id=experiment.Tasks.CLASSIFICATION,\n",
    "                                       base_model='meta-llama/llama-2-13b-chat',\n",
    "                                       accumulate_steps=32,\n",
    "                                       batch_size=8,\n",
    "                                       learning_rate=0.05881198993298603,\n",
    "                                       max_input_tokens=256,\n",
    "                                       max_output_tokens=10,\n",
    "                                       num_epochs=12,\n",
    "                                       tuning_type=experiment.PromptTuningTypes.PT,\n",
    "                                       verbalizer=\"Including narratives choice the best match product with the items from the list: 'credit_card', 'debt_collection', 'mortgages_and_loans', 'credit_reporting', 'retail_banking'. Input: {{input}} Output: \",\n",
    "                                       auto_update_model=True\n",
    "                                       )"
   ]
  },
  {
   "cell_type": "markdown",
   "metadata": {
    "collapsed": false,
    "pycharm": {
     "name": "#%% md\n"
    }
   },
   "source": [
    "You can review previous set parameters"
   ]
  },
  {
   "cell_type": "code",
   "execution_count": 10,
   "metadata": {
    "collapsed": false,
    "pycharm": {
     "name": "#%%\n"
    }
   },
   "outputs": [
    {
     "data": {
      "text/plain": [
       "{'base_model': {'model_id': 'meta-llama/llama-2-13b-chat'},\n",
       " 'accumulate_steps': 32,\n",
       " 'batch_size': 8,\n",
       " 'learning_rate': 0.05881198993298603,\n",
       " 'max_input_tokens': 256,\n",
       " 'max_output_tokens': 10,\n",
       " 'num_epochs': 12,\n",
       " 'task_id': 'classification',\n",
       " 'tuning_type': 'prompt_tuning',\n",
       " 'verbalizer': \"Including narratives choice the best match product with the items from the list: 'credit_card', 'debt_collection', 'mortgages_and_loans', 'credit_reporting', 'retail_banking'. Input: {{input}} Output: \",\n",
       " 'name': 'Llama-2-13b-chat prompt tuning - python SDK',\n",
       " 'description': 'Prompt tuning with SDK',\n",
       " 'auto_update_model': True,\n",
       " 'group_by_name': False}"
      ]
     },
     "execution_count": 10,
     "metadata": {},
     "output_type": "execute_result"
    }
   ],
   "source": [
    "prompt_tuner.get_params()"
   ]
  },
  {
   "cell_type": "markdown",
   "metadata": {
    "collapsed": false,
    "pycharm": {
     "name": "#%% md\n"
    }
   },
   "source": [
    "By changing the `background_mode` parameter to `True`, the prompt tuning process will run in the background."
   ]
  },
  {
   "cell_type": "code",
   "execution_count": 11,
   "metadata": {
    "collapsed": false,
    "pycharm": {
     "name": "#%%\n"
    }
   },
   "outputs": [
    {
     "name": "stdout",
     "output_type": "stream",
     "text": [
      "\n",
      "\n",
      "##############################################\n",
      "\n",
      "Running 'b80cb637-7098-4fe2-a8a1-4688207fb261'\n",
      "\n",
      "##############################################\n",
      "\n",
      "\n",
      "pending......\n",
      "running.....................................................................................................................................................................................................................................\n",
      "completed\n",
      "Training of 'b80cb637-7098-4fe2-a8a1-4688207fb261' finished successfully.\n"
     ]
    }
   ],
   "source": [
    "tuning_details = prompt_tuner.run(training_data_references=[data_conn], background_mode=False)"
   ]
  },
  {
   "cell_type": "markdown",
   "metadata": {
    "collapsed": false,
    "pycharm": {
     "name": "#%% md\n"
    }
   },
   "source": [
    "<a id=\"run_details\"></a>\n",
    "## Prompt Tuning details"
   ]
  },
  {
   "cell_type": "markdown",
   "metadata": {
    "collapsed": false,
    "pycharm": {
     "name": "#%% md\n"
    }
   },
   "source": [
    "Check status/state of initialized Prompt Tuning run if ran in background mode or when process finish if background mode is off."
   ]
  },
  {
   "cell_type": "code",
   "execution_count": 12,
   "metadata": {
    "collapsed": false,
    "pycharm": {
     "name": "#%%\n"
    }
   },
   "outputs": [
    {
     "data": {
      "text/plain": [
       "'completed'"
      ]
     },
     "execution_count": 12,
     "metadata": {},
     "output_type": "execute_result"
    }
   ],
   "source": [
    "prompt_tuner.get_run_status()"
   ]
  },
  {
   "cell_type": "markdown",
   "metadata": {
    "collapsed": false,
    "pycharm": {
     "name": "#%% md\n"
    }
   },
   "source": [
    "Let's summarize the run."
   ]
  },
  {
   "cell_type": "code",
   "execution_count": 13,
   "metadata": {
    "collapsed": false,
    "pycharm": {
     "name": "#%%\n"
    }
   },
   "outputs": [
    {
     "data": {
      "text/html": [
       "<div>\n",
       "<style scoped>\n",
       "    .dataframe tbody tr th:only-of-type {\n",
       "        vertical-align: middle;\n",
       "    }\n",
       "\n",
       "    .dataframe tbody tr th {\n",
       "        vertical-align: top;\n",
       "    }\n",
       "\n",
       "    .dataframe thead th {\n",
       "        text-align: right;\n",
       "    }\n",
       "</style>\n",
       "<table border=\"1\" class=\"dataframe\">\n",
       "  <thead>\n",
       "    <tr style=\"text-align: right;\">\n",
       "      <th></th>\n",
       "      <th>Enhancements</th>\n",
       "      <th>Base model</th>\n",
       "      <th>Auto store</th>\n",
       "      <th>Epochs</th>\n",
       "      <th>loss</th>\n",
       "    </tr>\n",
       "    <tr>\n",
       "      <th>Model Name</th>\n",
       "      <th></th>\n",
       "      <th></th>\n",
       "      <th></th>\n",
       "      <th></th>\n",
       "      <th></th>\n",
       "    </tr>\n",
       "  </thead>\n",
       "  <tbody>\n",
       "    <tr>\n",
       "      <th>model_b80cb637-7098-4fe2-a8a1-4688207fb261</th>\n",
       "      <td>[prompt_tuning]</td>\n",
       "      <td>meta-llama/llama-2-13b-chat</td>\n",
       "      <td>True</td>\n",
       "      <td>12</td>\n",
       "      <td>0.180353</td>\n",
       "    </tr>\n",
       "  </tbody>\n",
       "</table>\n",
       "</div>"
      ],
      "text/plain": [
       "                                               Enhancements  \\\n",
       "Model Name                                                    \n",
       "model_b80cb637-7098-4fe2-a8a1-4688207fb261  [prompt_tuning]   \n",
       "\n",
       "                                                             Base model  \\\n",
       "Model Name                                                                \n",
       "model_b80cb637-7098-4fe2-a8a1-4688207fb261  meta-llama/llama-2-13b-chat   \n",
       "\n",
       "                                            Auto store  Epochs      loss  \n",
       "Model Name                                                                \n",
       "model_b80cb637-7098-4fe2-a8a1-4688207fb261        True      12  0.180353  "
      ]
     },
     "execution_count": 13,
     "metadata": {},
     "output_type": "execute_result"
    }
   ],
   "source": [
    "prompt_tuner.summary()"
   ]
  },
  {
   "cell_type": "markdown",
   "metadata": {
    "collapsed": false,
    "pycharm": {
     "name": "#%% md\n"
    }
   },
   "source": [
    "Plot learning curves."
   ]
  },
  {
   "cell_type": "code",
   "execution_count": 14,
   "metadata": {
    "collapsed": false,
    "pycharm": {
     "name": "#%%\n"
    }
   },
   "outputs": [
    {
     "data": {
      "image/png": "[encoded data removed]",
      "text/plain": [
       "<Figure size 1800x400 with 3 Axes>"
      ]
     },
     "metadata": {},
     "output_type": "display_data"
    }
   ],
   "source": [
    "prompt_tuner.plot_learning_curve()"
   ]
  },
  {
   "cell_type": "markdown",
   "metadata": {
    "pycharm": {
     "name": "#%% md\n"
    }
   },
   "source": [
    "<a id=\"deploy\"></a>\n",
    "## Deploy"
   ]
  },
  {
   "cell_type": "markdown",
   "metadata": {
    "pycharm": {
     "name": "#%% md\n"
    }
   },
   "source": [
    "You can specify `model_id` from tuning details."
   ]
  },
  {
   "cell_type": "code",
   "execution_count": 15,
   "metadata": {
    "pycharm": {
     "name": "#%%\n"
    }
   },
   "outputs": [
    {
     "data": {
      "text/plain": [
       "'4a97f601-a756-42f1-a42c-3bc2b7f78434'"
      ]
     },
     "execution_count": 15,
     "metadata": {},
     "output_type": "execute_result"
    }
   ],
   "source": [
    "model_id = None\n",
    "\n",
    "if 'model_id' in tuning_details.get('entity', {}):\n",
    "    model_id = tuning_details['entity']['model_id']\n",
    "model_id"
   ]
  },
  {
   "cell_type": "markdown",
   "metadata": {
    "pycharm": {
     "name": "#%% md\n"
    }
   },
   "source": [
    "Create online deployment for published model."
   ]
  },
  {
   "cell_type": "code",
   "execution_count": 16,
   "metadata": {
    "pycharm": {
     "name": "#%%\n"
    }
   },
   "outputs": [
    {
     "name": "stderr",
     "output_type": "stream",
     "text": [
      "/var/folders/tn/9ly_sgjx7_l10vf37hzp9ysr0000gn/T/ipykernel_19944/2420237360.py:5: DeprecationWarning: datetime.datetime.utcnow() is deprecated and scheduled for removal in a future version. Use timezone-aware objects to represent datetimes in UTC: datetime.datetime.now(datetime.UTC).\n",
      "  client.deployments.ConfigurationMetaNames.SERVING_NAME : f\"pt_sdk_deployment_{datetime.utcnow().strftime('%Y_%m_%d_%H%M%S')}\"\n"
     ]
    },
    {
     "name": "stdout",
     "output_type": "stream",
     "text": [
      "\n",
      "\n",
      "######################################################################################\n",
      "\n",
      "Synchronous deployment creation for id: '4a97f601-a756-42f1-a42c-3bc2b7f78434' started\n",
      "\n",
      "######################################################################################\n",
      "\n",
      "\n",
      "initializing..................\n",
      "ready\n",
      "\n",
      "\n",
      "-----------------------------------------------------------------------------------------------\n",
      "Successfully finished deployment creation, deployment_id='9ccb61bf-8ce5-4050-a3d4-54c1ba84d12f'\n",
      "-----------------------------------------------------------------------------------------------\n",
      "\n",
      "\n"
     ]
    }
   ],
   "source": [
    "from datetime import datetime\n",
    "meta_props = {\n",
    "    client.deployments.ConfigurationMetaNames.NAME: \"PT DEPLOYMENT SDK - project\",\n",
    "    client.deployments.ConfigurationMetaNames.ONLINE: {},\n",
    "    client.deployments.ConfigurationMetaNames.SERVING_NAME : f\"pt_sdk_deployment_{datetime.utcnow().strftime('%Y_%m_%d_%H%M%S')}\"\n",
    "}\n",
    "deployment_details = client.deployments.create(model_id, meta_props)"
   ]
  },
  {
   "cell_type": "markdown",
   "metadata": {
    "pycharm": {
     "name": "#%% md\n"
    }
   },
   "source": [
    "Additionally you can get deployment details by printing `deployment_details`"
   ]
  },
  {
   "cell_type": "code",
   "execution_count": 17,
   "metadata": {
    "pycharm": {
     "name": "#%%\n"
    }
   },
   "outputs": [
    {
     "data": {
      "text/plain": [
       "{'entity': {'asset': {'id': '4a97f601-a756-42f1-a42c-3bc2b7f78434'},\n",
       "  'base_model_id': 'meta-llama/llama-2-13b-chat',\n",
       "  'custom': {},\n",
       "  'deployed_asset_type': 'prompt_tune',\n",
       "  'name': 'PT DEPLOYMENT SDK - project',\n",
       "  'online': {'parameters': {'serving_name': 'pt_sdk_deployment_2024_05_17_141552'}},\n",
       "  'project_id': 'cb931bf0-ac79-4e33-9d8a-3d6bbd4ee5f9',\n",
       "  'status': {'inference': [{'url': 'https://us-south.ml.cloud.ibm.com/ml/v1/deployments/pt_sdk_deployment_2024_05_17_141552/text/generation',\n",
       "     'uses_serving_name': True},\n",
       "    {'sse': True,\n",
       "     'url': 'https://us-south.ml.cloud.ibm.com/ml/v1/deployments/pt_sdk_deployment_2024_05_17_141552/text/generation_stream',\n",
       "     'uses_serving_name': True},\n",
       "    {'url': 'https://us-south.ml.cloud.ibm.com/ml/v1/deployments/9ccb61bf-8ce5-4050-a3d4-54c1ba84d12f/text/generation'},\n",
       "    {'sse': True,\n",
       "     'url': 'https://us-south.ml.cloud.ibm.com/ml/v1/deployments/9ccb61bf-8ce5-4050-a3d4-54c1ba84d12f/text/generation_stream'}],\n",
       "   'serving_urls': ['https://us-south.ml.cloud.ibm.com/ml/v1/deployments/9ccb61bf-8ce5-4050-a3d4-54c1ba84d12f/text/generation',\n",
       "    'https://us-south.ml.cloud.ibm.com/ml/v1/deployments/9ccb61bf-8ce5-4050-a3d4-54c1ba84d12f/text/generation_stream',\n",
       "    'https://us-south.ml.cloud.ibm.com/ml/v1/deployments/pt_sdk_deployment_2024_05_17_141552/text/generation',\n",
       "    'https://us-south.ml.cloud.ibm.com/ml/v1/deployments/pt_sdk_deployment_2024_05_17_141552/text/generation_stream'],\n",
       "   'state': 'ready'},\n",
       "  'verbalizer': \"Including narratives choice the best match product with the items from the list: 'credit_card', 'debt_collection', 'mortgages_and_loans', 'credit_reporting', 'retail_banking'. Input: {{input}} Output: \"},\n",
       " 'metadata': {'created_at': '2024-05-17T14:15:56.620Z',\n",
       "  'id': '9ccb61bf-8ce5-4050-a3d4-54c1ba84d12f',\n",
       "  'modified_at': '2024-05-17T14:15:56.620Z',\n",
       "  'name': 'PT DEPLOYMENT SDK - project',\n",
       "  'owner': 'IBMid-698000E1O4',\n",
       "  'project_id': 'cb931bf0-ac79-4e33-9d8a-3d6bbd4ee5f9'}}"
      ]
     },
     "execution_count": 17,
     "metadata": {},
     "output_type": "execute_result"
    }
   ],
   "source": [
    "deployment_details"
   ]
  },
  {
   "cell_type": "markdown",
   "metadata": {
    "pycharm": {
     "name": "#%% md\n"
    }
   },
   "source": [
    "You can specify `deployment_id` from deployment details."
   ]
  },
  {
   "cell_type": "code",
   "execution_count": 18,
   "metadata": {
    "pycharm": {
     "name": "#%%\n"
    }
   },
   "outputs": [
    {
     "data": {
      "text/plain": [
       "'9ccb61bf-8ce5-4050-a3d4-54c1ba84d12f'"
      ]
     },
     "execution_count": 18,
     "metadata": {},
     "output_type": "execute_result"
    }
   ],
   "source": [
    "deployment_id = deployment_details['metadata']['id']\n",
    "deployment_id"
   ]
  },
  {
   "cell_type": "markdown",
   "metadata": {
    "pycharm": {
     "name": "#%% md\n"
    }
   },
   "source": [
    "<a id=\"models_inference\"></a>\n",
    "## Foundation Models Inference on `watsonx.ai`"
   ]
  },
  {
   "cell_type": "markdown",
   "metadata": {
    "pycharm": {
     "name": "#%% md\n"
    }
   },
   "source": [
    "Provide a set of model parameters."
   ]
  },
  {
   "cell_type": "markdown",
   "metadata": {},
   "source": [
    "### Optionally, if you want to use an already Tuned (and deployed model), use the below credentials.\n",
    "### Else, go ahead and tune your own model, it will take a while (approx. 20-25 mins)"
   ]
  },
  {
   "cell_type": "code",
   "execution_count": 39,
   "metadata": {},
   "outputs": [],
   "source": [
    "creds = {\n",
    "    'url': \"https://us-south.ml.cloud.ibm.com\",\n",
    "    deployment_id: input(\"Input the deployment_id (hit enter): \"),\n",
    "    'api_key': getpass.getpass(\"Please enter the corresponding api key (hit enter): \")\n",
    "}"
   ]
  },
  {
   "cell_type": "code",
   "execution_count": 50,
   "metadata": {},
   "outputs": [
    {
     "data": {
      "text/plain": [
       "'SUCCESS'"
      ]
     },
     "execution_count": 50,
     "metadata": {},
     "output_type": "execute_result"
    }
   ],
   "source": [
    "client = APIClient(creds)\n",
    "client.set.default_project(project_id)"
   ]
  },
  {
   "cell_type": "code",
   "execution_count": 51,
   "metadata": {
    "pycharm": {
     "name": "#%%\n"
    }
   },
   "outputs": [],
   "source": [
    "from ibm_watsonx_ai.metanames import GenTextParamsMetaNames as GenParams\n",
    "\n",
    "generate_params = {\n",
    "    GenParams.MAX_NEW_TOKENS: 20,\n",
    "    GenParams.STOP_SEQUENCES: [\"\\n\\n\"]\n",
    "}"
   ]
  },
  {
   "cell_type": "markdown",
   "metadata": {
    "pycharm": {
     "name": "#%% md\n"
    }
   },
   "source": [
    "Initialize the `ModelInference` class."
   ]
  },
  {
   "cell_type": "code",
   "execution_count": 52,
   "metadata": {
    "pycharm": {
     "name": "#%%\n"
    }
   },
   "outputs": [],
   "source": [
    "from ibm_watsonx_ai.foundation_models import ModelInference\n",
    "\n",
    "tuned_model = ModelInference(\n",
    "    deployment_id=deployment_id,\n",
    "    params=generate_params,\n",
    "    api_client=client\n",
    ")"
   ]
  },
  {
   "cell_type": "markdown",
   "metadata": {
    "pycharm": {
     "name": "#%% md\n"
    }
   },
   "source": [
    "Alternatively you can use `credentials` and `project_id` to initialize the `ModelInference` class.\n",
    "\n",
    "```\n",
    "tuned_model = ModelInference(\n",
    "    deployment_id=deployment_id,\n",
    "    params=generate_params,\n",
    "    credentials=credentials,\n",
    "    project_id=project_id\n",
    ")\n",
    "\n",
    "```"
   ]
  },
  {
   "cell_type": "markdown",
   "metadata": {
    "pycharm": {
     "name": "#%% md\n"
    }
   },
   "source": [
    "Get deployment model inference details."
   ]
  },
  {
   "cell_type": "code",
   "execution_count": 53,
   "metadata": {
    "pycharm": {
     "name": "#%%\n"
    }
   },
   "outputs": [
    {
     "data": {
      "text/plain": [
       "{'entity': {'asset': {'id': '4a97f601-a756-42f1-a42c-3bc2b7f78434'},\n",
       "  'base_model_id': 'meta-llama/llama-2-13b-chat',\n",
       "  'custom': {},\n",
       "  'deployed_asset_type': 'prompt_tune',\n",
       "  'name': 'PT DEPLOYMENT SDK - project',\n",
       "  'online': {'parameters': {'serving_name': 'pt_sdk_deployment_2024_05_17_141552'}},\n",
       "  'project_id': 'cb931bf0-ac79-4e33-9d8a-3d6bbd4ee5f9',\n",
       "  'status': {'inference': [{'url': 'https://us-south.ml.cloud.ibm.com/ml/v1/deployments/pt_sdk_deployment_2024_05_17_141552/text/generation',\n",
       "     'uses_serving_name': True},\n",
       "    {'sse': True,\n",
       "     'url': 'https://us-south.ml.cloud.ibm.com/ml/v1/deployments/pt_sdk_deployment_2024_05_17_141552/text/generation_stream',\n",
       "     'uses_serving_name': True},\n",
       "    {'url': 'https://us-south.ml.cloud.ibm.com/ml/v1/deployments/9ccb61bf-8ce5-4050-a3d4-54c1ba84d12f/text/generation'},\n",
       "    {'sse': True,\n",
       "     'url': 'https://us-south.ml.cloud.ibm.com/ml/v1/deployments/9ccb61bf-8ce5-4050-a3d4-54c1ba84d12f/text/generation_stream'}],\n",
       "   'serving_urls': ['https://us-south.ml.cloud.ibm.com/ml/v1/deployments/9ccb61bf-8ce5-4050-a3d4-54c1ba84d12f/text/generation',\n",
       "    'https://us-south.ml.cloud.ibm.com/ml/v1/deployments/9ccb61bf-8ce5-4050-a3d4-54c1ba84d12f/text/generation_stream',\n",
       "    'https://us-south.ml.cloud.ibm.com/ml/v1/deployments/pt_sdk_deployment_2024_05_17_141552/text/generation',\n",
       "    'https://us-south.ml.cloud.ibm.com/ml/v1/deployments/pt_sdk_deployment_2024_05_17_141552/text/generation_stream'],\n",
       "   'state': 'ready'},\n",
       "  'verbalizer': \"Including narratives choice the best match product with the items from the list: 'credit_card', 'debt_collection', 'mortgages_and_loans', 'credit_reporting', 'retail_banking'. Input: {{input}} Output: \"},\n",
       " 'metadata': {'created_at': '2024-05-17T14:15:56.620Z',\n",
       "  'id': '9ccb61bf-8ce5-4050-a3d4-54c1ba84d12f',\n",
       "  'modified_at': '2024-05-17T14:15:56.620Z',\n",
       "  'name': 'PT DEPLOYMENT SDK - project',\n",
       "  'owner': 'IBMid-698000E1O4',\n",
       "  'project_id': 'cb931bf0-ac79-4e33-9d8a-3d6bbd4ee5f9'}}"
      ]
     },
     "execution_count": 53,
     "metadata": {},
     "output_type": "execute_result"
    }
   ],
   "source": [
    "tuned_model.get_details()"
   ]
  },
  {
   "cell_type": "markdown",
   "metadata": {
    "pycharm": {
     "name": "#%% md\n"
    }
   },
   "source": [
    "Analyze the product class for a sample prompt."
   ]
  },
  {
   "cell_type": "code",
   "execution_count": 22,
   "metadata": {
    "pycharm": {
     "name": "#%%\n"
    }
   },
   "outputs": [
    {
     "data": {
      "text/plain": [
       "' mortgages_and_loans'"
      ]
     },
     "execution_count": 22,
     "metadata": {},
     "output_type": "execute_result"
    }
   ],
   "source": [
    "response = tuned_model.generate_text(prompt=\"Including narratives choice the best match product with the items from the list: 'credit_card', 'debt_collection', 'mortgages_and_loans', 'credit_reporting', 'retail_banking'.\\nComment: hi landed job reside ca needed room rent found place rent paid deposit dollar however position going didnt work longer needed rent place bay asked landlord refund security deposit refused told called back wellsfargo disputed transaction recently noticed card reversal checking account got charged amount dollar called bank werent able refund money also emailed landlord asking refund money ten day passed still response hope cfpb take action successfully resolve issue thank\\nProduct:\\n\")\n",
    "response"
   ]
  },
  {
   "cell_type": "markdown",
   "metadata": {
    "pycharm": {
     "name": "#%% md\n"
    }
   },
   "source": [
    "<a id=\"predict\"></a>\n",
    "## Analyze the product classes."
   ]
  },
  {
   "cell_type": "markdown",
   "metadata": {
    "pycharm": {
     "name": "#%% md\n"
    }
   },
   "source": [
    "Download and prepare the `cfpb_test` dataset."
   ]
  },
  {
   "cell_type": "code",
   "execution_count": 23,
   "metadata": {
    "pycharm": {
     "name": "#%%\n"
    }
   },
   "outputs": [],
   "source": [
    "import pandas as pd\n",
    "\n",
    "filename = 'cfpb_test.json'\n",
    "url = \"https://raw.github.com/IBM/watson-machine-learning-samples/master/cloud/data/prompt_tuning/cfpb_test.json\"\n",
    "if not os.path.isfile(filename):\n",
    "    wget.download(url)\n",
    "    \n",
    "data = pd.read_json(filename)"
   ]
  },
  {
   "cell_type": "code",
   "execution_count": 24,
   "metadata": {
    "pycharm": {
     "name": "#%%\n"
    }
   },
   "outputs": [],
   "source": [
    "prompts = list(data.input)\n",
    "products = list(data.output)"
   ]
  },
  {
   "cell_type": "code",
   "execution_count": 25,
   "metadata": {
    "pycharm": {
     "name": "#%%\n"
    }
   },
   "outputs": [],
   "source": [
    "prompts_batch = [\"\\n\".join([prompt]) for prompt in prompts]"
   ]
  },
  {
   "cell_type": "markdown",
   "metadata": {
    "pycharm": {
     "name": "#%% md\n"
    }
   },
   "source": [
    "### Calculate the accuracy of tuned model"
   ]
  },
  {
   "cell_type": "code",
   "execution_count": 26,
   "metadata": {
    "pycharm": {
     "name": "#%%\n"
    }
   },
   "outputs": [],
   "source": [
    "tuned_model_results = tuned_model.generate_text(prompt=prompts_batch)"
   ]
  },
  {
   "cell_type": "markdown",
   "metadata": {
    "collapsed": false,
    "pycharm": {
     "name": "#%% md\n"
    }
   },
   "source": [
    "Let's strip whitespaces from the generated text to have reliable accuracy calculated."
   ]
  },
  {
   "cell_type": "code",
   "execution_count": 27,
   "metadata": {
    "collapsed": false,
    "pycharm": {
     "name": "#%%\n"
    }
   },
   "outputs": [],
   "source": [
    "tuned_model_results = [x.strip() for x in tuned_model_results]"
   ]
  },
  {
   "cell_type": "code",
   "execution_count": 28,
   "metadata": {
    "pycharm": {
     "name": "#%%\n"
    }
   },
   "outputs": [
    {
     "name": "stdout",
     "output_type": "stream",
     "text": [
      "accuracy_score: 0.48333333333333334\n"
     ]
    }
   ],
   "source": [
    "from sklearn.metrics import accuracy_score\n",
    "\n",
    "print(f'accuracy_score: {accuracy_score(products, tuned_model_results)}')"
   ]
  },
  {
   "cell_type": "markdown",
   "metadata": {
    "pycharm": {
     "name": "#%% md\n"
    }
   },
   "source": [
    "### Calculate the accuracy of base model"
   ]
  },
  {
   "cell_type": "markdown",
   "metadata": {
    "pycharm": {
     "name": "#%% md\n"
    }
   },
   "source": [
    "Initialize the `ModelInference` class with base model."
   ]
  },
  {
   "cell_type": "code",
   "execution_count": 29,
   "metadata": {
    "pycharm": {
     "name": "#%%\n"
    }
   },
   "outputs": [],
   "source": [
    "base_model = ModelInference(\n",
    "    model_id='meta-llama/llama-2-13b-chat',\n",
    "    params=generate_params,\n",
    "    api_client=client\n",
    ")"
   ]
  },
  {
   "cell_type": "code",
   "execution_count": 30,
   "metadata": {
    "pycharm": {
     "name": "#%%\n"
    }
   },
   "outputs": [],
   "source": [
    "base_model_results = base_model.generate_text(prompt=prompts_batch)"
   ]
  },
  {
   "cell_type": "markdown",
   "metadata": {},
   "source": [
    "Let's strip whitespaces from the generated text to have reliable accuracy calculated."
   ]
  },
  {
   "cell_type": "code",
   "execution_count": 31,
   "metadata": {},
   "outputs": [],
   "source": [
    "base_model_results = [x.strip() for x in base_model_results]"
   ]
  },
  {
   "cell_type": "code",
   "execution_count": 32,
   "metadata": {
    "pycharm": {
     "name": "#%%\n"
    }
   },
   "outputs": [
    {
     "name": "stdout",
     "output_type": "stream",
     "text": [
      "base model accuracy_score: 0.0033333333333333335\n"
     ]
    }
   ],
   "source": [
    "from sklearn.metrics import accuracy_score\n",
    "\n",
    "print(f'base model accuracy_score: {accuracy_score(products, base_model_results)}')"
   ]
  },
  {
   "cell_type": "markdown",
   "metadata": {
    "pycharm": {
     "name": "#%% md\n"
    }
   },
   "source": [
    "<a id=\"summary\"></a>\n",
    "## Summary and next steps\n",
    "\n",
    " You successfully completed this notebook!.\n",
    " \n",
    " You learned how to use prompt tuning in watsonx for analyze the product classes for a sample prompts.\n",
    " \n",
    "Check out our _<a href=\"https://ibm.github.io/watson-machine-learning-sdk/samples.html\" target=\"_blank\" rel=\"noopener no referrer\">Online Documentation</a>_ for more samples, tutorials, documentation, how-tos, and blog posts. "
   ]
  },
  {
   "cell_type": "markdown",
   "metadata": {
    "pycharm": {
     "name": "#%% md\n"
    }
   },
   "source": [
    "### Authors: \n",
    "\n",
    "**Lukasz Cmielowski**, Senior Technical Staff Member at Watson Machine Learning,\n",
    "\n",
    "**Mateusz Szewczyk**, Software Engineer at Watson Machine Learning."
   ]
  },
  {
   "cell_type": "markdown",
   "metadata": {
    "pycharm": {
     "name": "#%% md\n"
    }
   },
   "source": [
    "Copyright © 2024 IBM. This notebook and its source code are released under the terms of the MIT License."
   ]
  }
 ],
 "metadata": {
  "kernelspec": {
   "display_name": "notebook-samples",
   "language": "python",
   "name": "python3"
  },
  "language_info": {
   "codemirror_mode": {
    "name": "ipython",
    "version": 3
   },
   "file_extension": ".py",
   "mimetype": "text/x-python",
   "name": "python",
   "nbconvert_exporter": "python",
   "pygments_lexer": "ipython3",
   "version": "3.12.3"
  },
  "orig_nbformat": 4
 },
 "nbformat": 4,
 "nbformat_minor": 2
}
